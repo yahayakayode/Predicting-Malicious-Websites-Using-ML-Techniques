{
 "cells": [
  {
   "cell_type": "markdown",
   "id": "7ebe6b76",
   "metadata": {
    "slideshow": {
     "slide_type": "slide"
    }
   },
   "source": [
    "## Predicting Malicious Websites Using Machine Learning Techniques\n",
    "\n",
    "### Table of Contents\n",
    "> 1. <a href='#inro'>Introduction</a><br>\n",
    "> 2. <a href='#data_dic'>Data Dictionary</a><br>\n",
    "> 3. <a href='#project_objective'>Project Objective</a><br>\n",
    "> 4. <a href='#data_wrangling'>Data Wrangling</a><br>\n",
    "> 5.  <a href='#assessing_data'>Assessing Data</a><br>\n",
    "> 6. <a href='#data_cleaning'>Data Cleaning </a><br>\n",
    "> 7. <a href='#eda'>Exploratory Data Analysis</a><br>\n",
    "> 8. <a href='#mlapplication'>Machine Learning Application</a><br>\n",
    "> 9. <a href='#Conclusion'>Conclusion</a>\n"
   ]
  },
  {
   "cell_type": "markdown",
   "id": "cc6bb11e",
   "metadata": {
    "slideshow": {
     "slide_type": "slide"
    }
   },
   "source": [
    "<a id='inro'></a>\n",
    "### Introduction\n",
    "> In the vast growing global Internet, there exist billions of websites and it's often hard to Identify which websites are malicious and which ones are safe to use. According to [SecurityWeek](https://www.securityweek.com/185-million-websites-infected-malware-any-time/), \"There are more than `1.86 billion` websites on the internet. Around `1%` of these -- something like 18,500,000 -- are infected with malware at a given time each week;  while the average website is attacked `44 times` every day\".\n",
    "\n",
    "> The said websites pose a variety of risks and compromises to users, which includes stealling of accounts information, personal data, financial records and the collapse of small businesses or big organization. However, one of the ways to circumvent the problem is to leverage on th power of `Machine Learning` by taking some of the characteristics or features of the website, analyse them and perhaps use them to predict if a potential website is free to use or not.<br>\n",
    "> The research use `Decision Tree` and `XGBoost` algorithms to classifier a website to either `Malicious` or `Benign`."
   ]
  },
  {
   "cell_type": "markdown",
   "id": "f5e69b00",
   "metadata": {
    "slideshow": {
     "slide_type": "slide"
    }
   },
   "source": [
    "<a id='project_objective'></a>\n",
    "### Project Objective\n",
    "> The objective this project is to use supervise or classifier algorithms to classify website into either `Malicious` (`Type=1`) or `Benign` (`Type=0`) using the various features given in the dataset"
   ]
  },
  {
   "cell_type": "markdown",
   "id": "3ca9b0a8",
   "metadata": {
    "slideshow": {
     "slide_type": "slide"
    }
   },
   "source": [
    "<a id='data_dic'></a>\n",
    "### Data Dictionary \n",
    "There are `1781` reocrds and `21` columns in the dataset, and below are the columns. The datset used in this research can be found in [Kaggle website](https://www.kaggle.com/datasets/xwolf12/malicious-and-benign-websites)\n",
    "> 1. `URL:` This is the anonimous identification of the `URL` analyzed in the research.\n",
    "> 2. `URL_LENGTH:` This is the number of characters in the `URL`.\n",
    "> 3. `NUMBER_SPECIAL_CHARACTERS:` Thi is the number of special characters identified in the URL, such as, `“/”`, `“%”`, `“#”`, `“&”`, `“. “` and `“=”`.\n",
    "> 4.  `CHARSET:` This is a categorical value and its represent the `character encoding standard` (also called character set).\n",
    "> 5. `SERVER:` The is a categorical value and it is the operative system of the server got from the packet response.\n",
    "> 6. `CONTENT_LENGTH:` it represents the content size of the HTTP header.\n",
    "> 7. `WHOIS_COUNTRY:` This is a categorical variable, its values are the countries from the server response.\n",
    "> 8. `WHOIS_STATEPRO:` This is a categorical variable, its values are the states from the server response.\n",
    "> 9. `WHOIS_REGDATE:` This is the registration date for the `URL`, with format of `DD/MM/YYY HH:MM`.\n",
    "> 10. `WHOIS_UPDATED_DATE:` This is the last `URL` updated date.\n",
    "> 11. `TCP_CONVERSATION_EXCHANGE:` This variable represent the number of `TCP` packets exchanged between the `server` and our `honeypot client`.\n",
    "> 12. `DIST_REMOTE_TCP_PORT:` This is the number of ports detected and different to `TCP`\n",
    "> 13. `REMOTE_IPS:` This is the total number of `IPs` connected to the `honeypot`.\n",
    "> 14. `APP_BYTES:` This is the number of bytes transfered.\n",
    "> 15. `SOURCE_APP_PACKETS:` Packets sent from the `honeypot` to the `server`\n",
    "> 16. `REMOTE_APP_PACKETS:` Packets received from the server\n",
    "> 17. `SOURCE_APP_BYTES:` This is the source of the app bytes.\n",
    "> 18. `REMOTE_APP_BYTES:` This is the remote app bytes.\n",
    "> 19. `APP_PACKETS:` This is the total number of IP packets generated during the communication between the `honeypot` and the `server`.\n",
    "> 20. `DNS_QUERY_TIMES:` This is the number of `DNS` packets generated during the communication between the `honeypot` and the `server`.\n",
    "> 21. `TYPE:` This is a categorical variable, its values represent the type of web page analyzed, where, `1` represents `malicious` websites and `0` represent `benign` websites.\n"
   ]
  },
  {
   "cell_type": "markdown",
   "id": "8706eeb3",
   "metadata": {
    "slideshow": {
     "slide_type": "slide"
    }
   },
   "source": [
    "<a id='data_wrangling'></a>\n",
    "### Data Wrangling\n",
    "#### Data Gathering\n",
    "> This section entails reading the `CSV` file that contains the dataset using Phython `Pandas` library."
   ]
  },
  {
   "cell_type": "markdown",
   "id": "569add2f",
   "metadata": {
    "slideshow": {
     "slide_type": "-"
    }
   },
   "source": [
    "<a id='data_wrangling'></a>"
   ]
  },
  {
   "cell_type": "code",
   "execution_count": 1,
   "id": "e75804e0",
   "metadata": {
    "slideshow": {
     "slide_type": "skip"
    }
   },
   "outputs": [],
   "source": [
    "# Import the needed libraries\n",
    "import pandas as pd\n",
    "import numpy as np\n",
    "import pandas as pd\n",
    "import numpy as np\n",
    "import matplotlib.pyplot as plt\n",
    "import seaborn as sns\n",
    "%matplotlib inline\n",
    "sns.set_theme()\n"
   ]
  },
  {
   "cell_type": "code",
   "execution_count": 2,
   "id": "4e2bbdd5",
   "metadata": {
    "slideshow": {
     "slide_type": "skip"
    }
   },
   "outputs": [],
   "source": [
    "# View the first 5 records\n",
    "url_df = pd.read_csv('websites-dataset.csv')"
   ]
  },
  {
   "cell_type": "markdown",
   "id": "d7284442",
   "metadata": {
    "slideshow": {
     "slide_type": "slide"
    }
   },
   "source": [
    " <a id='assessing_data'></a>\n",
    "### Data Assessing\n",
    "> In this section, the dataset was assessed in order to identify quality and tidiness issues using both visual assessment and programmatic assessement methods."
   ]
  },
  {
   "cell_type": "code",
   "execution_count": 3,
   "id": "8db57e3a",
   "metadata": {
    "slideshow": {
     "slide_type": "slide"
    }
   },
   "outputs": [
    {
     "data": {
      "text/html": [
       "<div>\n",
       "<style scoped>\n",
       "    .dataframe tbody tr th:only-of-type {\n",
       "        vertical-align: middle;\n",
       "    }\n",
       "\n",
       "    .dataframe tbody tr th {\n",
       "        vertical-align: top;\n",
       "    }\n",
       "\n",
       "    .dataframe thead th {\n",
       "        text-align: right;\n",
       "    }\n",
       "</style>\n",
       "<table border=\"1\" class=\"dataframe\">\n",
       "  <thead>\n",
       "    <tr style=\"text-align: right;\">\n",
       "      <th></th>\n",
       "      <th>URL</th>\n",
       "      <th>URL_LENGTH</th>\n",
       "      <th>NUMBER_SPECIAL_CHARACTERS</th>\n",
       "      <th>CHARSET</th>\n",
       "      <th>SERVER</th>\n",
       "      <th>CONTENT_LENGTH</th>\n",
       "      <th>WHOIS_COUNTRY</th>\n",
       "      <th>WHOIS_STATEPRO</th>\n",
       "      <th>WHOIS_REGDATE</th>\n",
       "      <th>WHOIS_UPDATED_DATE</th>\n",
       "      <th>...</th>\n",
       "      <th>DIST_REMOTE_TCP_PORT</th>\n",
       "      <th>REMOTE_IPS</th>\n",
       "      <th>APP_BYTES</th>\n",
       "      <th>SOURCE_APP_PACKETS</th>\n",
       "      <th>REMOTE_APP_PACKETS</th>\n",
       "      <th>SOURCE_APP_BYTES</th>\n",
       "      <th>REMOTE_APP_BYTES</th>\n",
       "      <th>APP_PACKETS</th>\n",
       "      <th>DNS_QUERY_TIMES</th>\n",
       "      <th>Type</th>\n",
       "    </tr>\n",
       "  </thead>\n",
       "  <tbody>\n",
       "    <tr>\n",
       "      <th>1329</th>\n",
       "      <td>B0_1386</td>\n",
       "      <td>68</td>\n",
       "      <td>12</td>\n",
       "      <td>ISO-8859-1</td>\n",
       "      <td>Oracle-iPlanet-Web-Server/7.0</td>\n",
       "      <td>3257.0</td>\n",
       "      <td>None</td>\n",
       "      <td>None</td>\n",
       "      <td>13/10/2000 0:00</td>\n",
       "      <td>27/04/2017 0:00</td>\n",
       "      <td>...</td>\n",
       "      <td>0</td>\n",
       "      <td>0</td>\n",
       "      <td>0</td>\n",
       "      <td>0</td>\n",
       "      <td>0</td>\n",
       "      <td>0</td>\n",
       "      <td>0</td>\n",
       "      <td>0</td>\n",
       "      <td>0.0</td>\n",
       "      <td>0</td>\n",
       "    </tr>\n",
       "    <tr>\n",
       "      <th>133</th>\n",
       "      <td>B0_2024</td>\n",
       "      <td>29</td>\n",
       "      <td>6</td>\n",
       "      <td>us-ascii</td>\n",
       "      <td>Microsoft-HTTPAPI/2.0</td>\n",
       "      <td>324.0</td>\n",
       "      <td>US</td>\n",
       "      <td>Michigan</td>\n",
       "      <td>26/08/2015 0:00</td>\n",
       "      <td>26/08/2016 0:00</td>\n",
       "      <td>...</td>\n",
       "      <td>8</td>\n",
       "      <td>6</td>\n",
       "      <td>900</td>\n",
       "      <td>12</td>\n",
       "      <td>9</td>\n",
       "      <td>568</td>\n",
       "      <td>900</td>\n",
       "      <td>12</td>\n",
       "      <td>0.0</td>\n",
       "      <td>0</td>\n",
       "    </tr>\n",
       "    <tr>\n",
       "      <th>62</th>\n",
       "      <td>B0_468</td>\n",
       "      <td>25</td>\n",
       "      <td>6</td>\n",
       "      <td>UTF-8</td>\n",
       "      <td>Apache</td>\n",
       "      <td>NaN</td>\n",
       "      <td>US</td>\n",
       "      <td>California</td>\n",
       "      <td>14/09/2006 0:00</td>\n",
       "      <td>9/09/2016 0:00</td>\n",
       "      <td>...</td>\n",
       "      <td>0</td>\n",
       "      <td>5</td>\n",
       "      <td>1327</td>\n",
       "      <td>16</td>\n",
       "      <td>17</td>\n",
       "      <td>14050</td>\n",
       "      <td>1615</td>\n",
       "      <td>16</td>\n",
       "      <td>4.0</td>\n",
       "      <td>0</td>\n",
       "    </tr>\n",
       "    <tr>\n",
       "      <th>707</th>\n",
       "      <td>B0_1343</td>\n",
       "      <td>45</td>\n",
       "      <td>8</td>\n",
       "      <td>utf-8</td>\n",
       "      <td>AmazonS3</td>\n",
       "      <td>365.0</td>\n",
       "      <td>US</td>\n",
       "      <td>Arizona</td>\n",
       "      <td>13/07/2001 0:00</td>\n",
       "      <td>26/04/2015 0:00</td>\n",
       "      <td>...</td>\n",
       "      <td>0</td>\n",
       "      <td>0</td>\n",
       "      <td>0</td>\n",
       "      <td>0</td>\n",
       "      <td>0</td>\n",
       "      <td>0</td>\n",
       "      <td>0</td>\n",
       "      <td>0</td>\n",
       "      <td>0.0</td>\n",
       "      <td>0</td>\n",
       "    </tr>\n",
       "    <tr>\n",
       "      <th>755</th>\n",
       "      <td>B0_237</td>\n",
       "      <td>46</td>\n",
       "      <td>8</td>\n",
       "      <td>UTF-8</td>\n",
       "      <td>Apache</td>\n",
       "      <td>193.0</td>\n",
       "      <td>US</td>\n",
       "      <td>PA</td>\n",
       "      <td>14/10/2016 0:00</td>\n",
       "      <td>14/10/2016 0:00</td>\n",
       "      <td>...</td>\n",
       "      <td>0</td>\n",
       "      <td>2</td>\n",
       "      <td>680</td>\n",
       "      <td>11</td>\n",
       "      <td>10</td>\n",
       "      <td>1363</td>\n",
       "      <td>1002</td>\n",
       "      <td>11</td>\n",
       "      <td>4.0</td>\n",
       "      <td>0</td>\n",
       "    </tr>\n",
       "    <tr>\n",
       "      <th>50</th>\n",
       "      <td>B0_2315</td>\n",
       "      <td>24</td>\n",
       "      <td>6</td>\n",
       "      <td>us-ascii</td>\n",
       "      <td>Microsoft-HTTPAPI/2.0</td>\n",
       "      <td>324.0</td>\n",
       "      <td>CA</td>\n",
       "      <td>quebec</td>\n",
       "      <td>7/04/2011 0:00</td>\n",
       "      <td>8/04/2017 0:00</td>\n",
       "      <td>...</td>\n",
       "      <td>4</td>\n",
       "      <td>4</td>\n",
       "      <td>564</td>\n",
       "      <td>6</td>\n",
       "      <td>8</td>\n",
       "      <td>508</td>\n",
       "      <td>564</td>\n",
       "      <td>6</td>\n",
       "      <td>0.0</td>\n",
       "      <td>0</td>\n",
       "    </tr>\n",
       "    <tr>\n",
       "      <th>537</th>\n",
       "      <td>B0_416</td>\n",
       "      <td>40</td>\n",
       "      <td>6</td>\n",
       "      <td>ISO-8859-1</td>\n",
       "      <td>nginx/1.12.0</td>\n",
       "      <td>1108.0</td>\n",
       "      <td>None</td>\n",
       "      <td>None</td>\n",
       "      <td>17/02/2009 0:00</td>\n",
       "      <td>16/02/2015 0:00</td>\n",
       "      <td>...</td>\n",
       "      <td>10</td>\n",
       "      <td>4</td>\n",
       "      <td>1166</td>\n",
       "      <td>19</td>\n",
       "      <td>19</td>\n",
       "      <td>1626</td>\n",
       "      <td>1538</td>\n",
       "      <td>19</td>\n",
       "      <td>4.0</td>\n",
       "      <td>0</td>\n",
       "    </tr>\n",
       "    <tr>\n",
       "      <th>269</th>\n",
       "      <td>B0_760</td>\n",
       "      <td>34</td>\n",
       "      <td>7</td>\n",
       "      <td>ISO-8859-1</td>\n",
       "      <td>nginx</td>\n",
       "      <td>1501.0</td>\n",
       "      <td>US</td>\n",
       "      <td>New York</td>\n",
       "      <td>22/12/1999 0:00</td>\n",
       "      <td>24/05/2012 0:00</td>\n",
       "      <td>...</td>\n",
       "      <td>3</td>\n",
       "      <td>11</td>\n",
       "      <td>2042</td>\n",
       "      <td>29</td>\n",
       "      <td>29</td>\n",
       "      <td>7939</td>\n",
       "      <td>2520</td>\n",
       "      <td>29</td>\n",
       "      <td>6.0</td>\n",
       "      <td>0</td>\n",
       "    </tr>\n",
       "    <tr>\n",
       "      <th>775</th>\n",
       "      <td>B0_747</td>\n",
       "      <td>46</td>\n",
       "      <td>9</td>\n",
       "      <td>UTF-8</td>\n",
       "      <td>Apache/2.2.15 (CentOS)</td>\n",
       "      <td>10303.0</td>\n",
       "      <td>AU</td>\n",
       "      <td>New South Wales</td>\n",
       "      <td>8/01/2009 10:56</td>\n",
       "      <td>9/01/2017 10:11</td>\n",
       "      <td>...</td>\n",
       "      <td>0</td>\n",
       "      <td>3</td>\n",
       "      <td>13622</td>\n",
       "      <td>200</td>\n",
       "      <td>255</td>\n",
       "      <td>486769</td>\n",
       "      <td>13794</td>\n",
       "      <td>200</td>\n",
       "      <td>2.0</td>\n",
       "      <td>0</td>\n",
       "    </tr>\n",
       "    <tr>\n",
       "      <th>89</th>\n",
       "      <td>B0_793</td>\n",
       "      <td>26</td>\n",
       "      <td>6</td>\n",
       "      <td>ISO-8859-1</td>\n",
       "      <td>nginx/1.12.0</td>\n",
       "      <td>NaN</td>\n",
       "      <td>US</td>\n",
       "      <td>Colorado</td>\n",
       "      <td>23/06/2010 0:00</td>\n",
       "      <td>23/04/2015 0:00</td>\n",
       "      <td>...</td>\n",
       "      <td>0</td>\n",
       "      <td>0</td>\n",
       "      <td>0</td>\n",
       "      <td>0</td>\n",
       "      <td>0</td>\n",
       "      <td>0</td>\n",
       "      <td>0</td>\n",
       "      <td>0</td>\n",
       "      <td>0.0</td>\n",
       "      <td>0</td>\n",
       "    </tr>\n",
       "  </tbody>\n",
       "</table>\n",
       "<p>10 rows × 21 columns</p>\n",
       "</div>"
      ],
      "text/plain": [
       "          URL  URL_LENGTH  NUMBER_SPECIAL_CHARACTERS     CHARSET  \\\n",
       "1329  B0_1386          68                         12  ISO-8859-1   \n",
       "133   B0_2024          29                          6    us-ascii   \n",
       "62     B0_468          25                          6       UTF-8   \n",
       "707   B0_1343          45                          8       utf-8   \n",
       "755    B0_237          46                          8       UTF-8   \n",
       "50    B0_2315          24                          6    us-ascii   \n",
       "537    B0_416          40                          6  ISO-8859-1   \n",
       "269    B0_760          34                          7  ISO-8859-1   \n",
       "775    B0_747          46                          9       UTF-8   \n",
       "89     B0_793          26                          6  ISO-8859-1   \n",
       "\n",
       "                             SERVER  CONTENT_LENGTH WHOIS_COUNTRY  \\\n",
       "1329  Oracle-iPlanet-Web-Server/7.0          3257.0          None   \n",
       "133           Microsoft-HTTPAPI/2.0           324.0            US   \n",
       "62                           Apache             NaN            US   \n",
       "707                        AmazonS3           365.0            US   \n",
       "755                          Apache           193.0            US   \n",
       "50            Microsoft-HTTPAPI/2.0           324.0            CA   \n",
       "537                    nginx/1.12.0          1108.0          None   \n",
       "269                           nginx          1501.0            US   \n",
       "775          Apache/2.2.15 (CentOS)         10303.0            AU   \n",
       "89                     nginx/1.12.0             NaN            US   \n",
       "\n",
       "       WHOIS_STATEPRO    WHOIS_REGDATE WHOIS_UPDATED_DATE  ...  \\\n",
       "1329             None  13/10/2000 0:00    27/04/2017 0:00  ...   \n",
       "133          Michigan  26/08/2015 0:00    26/08/2016 0:00  ...   \n",
       "62         California  14/09/2006 0:00     9/09/2016 0:00  ...   \n",
       "707           Arizona  13/07/2001 0:00    26/04/2015 0:00  ...   \n",
       "755                PA  14/10/2016 0:00    14/10/2016 0:00  ...   \n",
       "50             quebec   7/04/2011 0:00     8/04/2017 0:00  ...   \n",
       "537              None  17/02/2009 0:00    16/02/2015 0:00  ...   \n",
       "269          New York  22/12/1999 0:00    24/05/2012 0:00  ...   \n",
       "775   New South Wales  8/01/2009 10:56    9/01/2017 10:11  ...   \n",
       "89           Colorado  23/06/2010 0:00    23/04/2015 0:00  ...   \n",
       "\n",
       "      DIST_REMOTE_TCP_PORT  REMOTE_IPS  APP_BYTES  SOURCE_APP_PACKETS  \\\n",
       "1329                     0           0          0                   0   \n",
       "133                      8           6        900                  12   \n",
       "62                       0           5       1327                  16   \n",
       "707                      0           0          0                   0   \n",
       "755                      0           2        680                  11   \n",
       "50                       4           4        564                   6   \n",
       "537                     10           4       1166                  19   \n",
       "269                      3          11       2042                  29   \n",
       "775                      0           3      13622                 200   \n",
       "89                       0           0          0                   0   \n",
       "\n",
       "      REMOTE_APP_PACKETS  SOURCE_APP_BYTES  REMOTE_APP_BYTES  APP_PACKETS  \\\n",
       "1329                   0                 0                 0            0   \n",
       "133                    9               568               900           12   \n",
       "62                    17             14050              1615           16   \n",
       "707                    0                 0                 0            0   \n",
       "755                   10              1363              1002           11   \n",
       "50                     8               508               564            6   \n",
       "537                   19              1626              1538           19   \n",
       "269                   29              7939              2520           29   \n",
       "775                  255            486769             13794          200   \n",
       "89                     0                 0                 0            0   \n",
       "\n",
       "      DNS_QUERY_TIMES  Type  \n",
       "1329              0.0     0  \n",
       "133               0.0     0  \n",
       "62                4.0     0  \n",
       "707               0.0     0  \n",
       "755               4.0     0  \n",
       "50                0.0     0  \n",
       "537               4.0     0  \n",
       "269               6.0     0  \n",
       "775               2.0     0  \n",
       "89                0.0     0  \n",
       "\n",
       "[10 rows x 21 columns]"
      ]
     },
     "execution_count": 3,
     "metadata": {},
     "output_type": "execute_result"
    }
   ],
   "source": [
    "url_df.sample(10)"
   ]
  },
  {
   "cell_type": "code",
   "execution_count": 4,
   "id": "9a814722",
   "metadata": {
    "slideshow": {
     "slide_type": "skip"
    }
   },
   "outputs": [
    {
     "name": "stdout",
     "output_type": "stream",
     "text": [
      "<class 'pandas.core.frame.DataFrame'>\n",
      "RangeIndex: 1781 entries, 0 to 1780\n",
      "Data columns (total 21 columns):\n",
      " #   Column                     Non-Null Count  Dtype  \n",
      "---  ------                     --------------  -----  \n",
      " 0   URL                        1781 non-null   object \n",
      " 1   URL_LENGTH                 1781 non-null   int64  \n",
      " 2   NUMBER_SPECIAL_CHARACTERS  1781 non-null   int64  \n",
      " 3   CHARSET                    1781 non-null   object \n",
      " 4   SERVER                     1780 non-null   object \n",
      " 5   CONTENT_LENGTH             969 non-null    float64\n",
      " 6   WHOIS_COUNTRY              1781 non-null   object \n",
      " 7   WHOIS_STATEPRO             1781 non-null   object \n",
      " 8   WHOIS_REGDATE              1781 non-null   object \n",
      " 9   WHOIS_UPDATED_DATE         1781 non-null   object \n",
      " 10  TCP_CONVERSATION_EXCHANGE  1781 non-null   int64  \n",
      " 11  DIST_REMOTE_TCP_PORT       1781 non-null   int64  \n",
      " 12  REMOTE_IPS                 1781 non-null   int64  \n",
      " 13  APP_BYTES                  1781 non-null   int64  \n",
      " 14  SOURCE_APP_PACKETS         1781 non-null   int64  \n",
      " 15  REMOTE_APP_PACKETS         1781 non-null   int64  \n",
      " 16  SOURCE_APP_BYTES           1781 non-null   int64  \n",
      " 17  REMOTE_APP_BYTES           1781 non-null   int64  \n",
      " 18  APP_PACKETS                1781 non-null   int64  \n",
      " 19  DNS_QUERY_TIMES            1780 non-null   float64\n",
      " 20  Type                       1781 non-null   int64  \n",
      "dtypes: float64(2), int64(12), object(7)\n",
      "memory usage: 292.3+ KB\n"
     ]
    }
   ],
   "source": [
    "# Check more details about the dataset\n",
    "url_df.info()"
   ]
  },
  {
   "cell_type": "markdown",
   "id": "799470e3",
   "metadata": {
    "slideshow": {
     "slide_type": "slide"
    }
   },
   "source": [
    "It can be obsered from the above that there are few columns that have missing values, also `WHOIS_REGDATE` and `WHOIS_UPDATED_DATE` have their datatype to be `string` instead of `datetime`."
   ]
  },
  {
   "cell_type": "code",
   "execution_count": 5,
   "id": "4fcf3394",
   "metadata": {
    "slideshow": {
     "slide_type": "skip"
    }
   },
   "outputs": [
    {
     "data": {
      "text/plain": [
       "(1781, 21)"
      ]
     },
     "execution_count": 5,
     "metadata": {},
     "output_type": "execute_result"
    }
   ],
   "source": [
    "# Check the number of rows and columns in the dataset\n",
    "url_df.shape"
   ]
  },
  {
   "cell_type": "markdown",
   "id": "58966a39",
   "metadata": {
    "slideshow": {
     "slide_type": "slide"
    }
   },
   "source": [
    "The datatset contains `1781` records and `21` columns."
   ]
  },
  {
   "cell_type": "code",
   "execution_count": 6,
   "id": "de7330ae",
   "metadata": {
    "slideshow": {
     "slide_type": "slide"
    }
   },
   "outputs": [
    {
     "data": {
      "text/html": [
       "<div>\n",
       "<style scoped>\n",
       "    .dataframe tbody tr th:only-of-type {\n",
       "        vertical-align: middle;\n",
       "    }\n",
       "\n",
       "    .dataframe tbody tr th {\n",
       "        vertical-align: top;\n",
       "    }\n",
       "\n",
       "    .dataframe thead th {\n",
       "        text-align: right;\n",
       "    }\n",
       "</style>\n",
       "<table border=\"1\" class=\"dataframe\">\n",
       "  <thead>\n",
       "    <tr style=\"text-align: right;\">\n",
       "      <th></th>\n",
       "      <th>URL_LENGTH</th>\n",
       "      <th>NUMBER_SPECIAL_CHARACTERS</th>\n",
       "      <th>CONTENT_LENGTH</th>\n",
       "      <th>TCP_CONVERSATION_EXCHANGE</th>\n",
       "      <th>DIST_REMOTE_TCP_PORT</th>\n",
       "      <th>REMOTE_IPS</th>\n",
       "      <th>APP_BYTES</th>\n",
       "      <th>SOURCE_APP_PACKETS</th>\n",
       "      <th>REMOTE_APP_PACKETS</th>\n",
       "      <th>SOURCE_APP_BYTES</th>\n",
       "      <th>REMOTE_APP_BYTES</th>\n",
       "      <th>APP_PACKETS</th>\n",
       "      <th>DNS_QUERY_TIMES</th>\n",
       "      <th>Type</th>\n",
       "    </tr>\n",
       "  </thead>\n",
       "  <tbody>\n",
       "    <tr>\n",
       "      <th>count</th>\n",
       "      <td>1781.000000</td>\n",
       "      <td>1781.000000</td>\n",
       "      <td>969.000000</td>\n",
       "      <td>1781.000000</td>\n",
       "      <td>1781.000000</td>\n",
       "      <td>1781.000000</td>\n",
       "      <td>1.781000e+03</td>\n",
       "      <td>1781.000000</td>\n",
       "      <td>1781.000000</td>\n",
       "      <td>1.781000e+03</td>\n",
       "      <td>1.781000e+03</td>\n",
       "      <td>1781.000000</td>\n",
       "      <td>1780.000000</td>\n",
       "      <td>1781.000000</td>\n",
       "    </tr>\n",
       "    <tr>\n",
       "      <th>mean</th>\n",
       "      <td>56.961258</td>\n",
       "      <td>11.111735</td>\n",
       "      <td>11726.927761</td>\n",
       "      <td>16.261089</td>\n",
       "      <td>5.472768</td>\n",
       "      <td>3.060640</td>\n",
       "      <td>2.982339e+03</td>\n",
       "      <td>18.540146</td>\n",
       "      <td>18.746210</td>\n",
       "      <td>1.589255e+04</td>\n",
       "      <td>3.155599e+03</td>\n",
       "      <td>18.540146</td>\n",
       "      <td>2.263483</td>\n",
       "      <td>0.121280</td>\n",
       "    </tr>\n",
       "    <tr>\n",
       "      <th>std</th>\n",
       "      <td>27.555586</td>\n",
       "      <td>4.549896</td>\n",
       "      <td>36391.809051</td>\n",
       "      <td>40.500975</td>\n",
       "      <td>21.807327</td>\n",
       "      <td>3.386975</td>\n",
       "      <td>5.605057e+04</td>\n",
       "      <td>41.627173</td>\n",
       "      <td>46.397969</td>\n",
       "      <td>6.986193e+04</td>\n",
       "      <td>5.605378e+04</td>\n",
       "      <td>41.627173</td>\n",
       "      <td>2.930853</td>\n",
       "      <td>0.326544</td>\n",
       "    </tr>\n",
       "    <tr>\n",
       "      <th>min</th>\n",
       "      <td>16.000000</td>\n",
       "      <td>5.000000</td>\n",
       "      <td>0.000000</td>\n",
       "      <td>0.000000</td>\n",
       "      <td>0.000000</td>\n",
       "      <td>0.000000</td>\n",
       "      <td>0.000000e+00</td>\n",
       "      <td>0.000000</td>\n",
       "      <td>0.000000</td>\n",
       "      <td>0.000000e+00</td>\n",
       "      <td>0.000000e+00</td>\n",
       "      <td>0.000000</td>\n",
       "      <td>0.000000</td>\n",
       "      <td>0.000000</td>\n",
       "    </tr>\n",
       "    <tr>\n",
       "      <th>25%</th>\n",
       "      <td>39.000000</td>\n",
       "      <td>8.000000</td>\n",
       "      <td>324.000000</td>\n",
       "      <td>0.000000</td>\n",
       "      <td>0.000000</td>\n",
       "      <td>0.000000</td>\n",
       "      <td>0.000000e+00</td>\n",
       "      <td>0.000000</td>\n",
       "      <td>0.000000</td>\n",
       "      <td>0.000000e+00</td>\n",
       "      <td>0.000000e+00</td>\n",
       "      <td>0.000000</td>\n",
       "      <td>0.000000</td>\n",
       "      <td>0.000000</td>\n",
       "    </tr>\n",
       "    <tr>\n",
       "      <th>50%</th>\n",
       "      <td>49.000000</td>\n",
       "      <td>10.000000</td>\n",
       "      <td>1853.000000</td>\n",
       "      <td>7.000000</td>\n",
       "      <td>0.000000</td>\n",
       "      <td>2.000000</td>\n",
       "      <td>6.720000e+02</td>\n",
       "      <td>8.000000</td>\n",
       "      <td>9.000000</td>\n",
       "      <td>5.790000e+02</td>\n",
       "      <td>7.350000e+02</td>\n",
       "      <td>8.000000</td>\n",
       "      <td>0.000000</td>\n",
       "      <td>0.000000</td>\n",
       "    </tr>\n",
       "    <tr>\n",
       "      <th>75%</th>\n",
       "      <td>68.000000</td>\n",
       "      <td>13.000000</td>\n",
       "      <td>11323.000000</td>\n",
       "      <td>22.000000</td>\n",
       "      <td>5.000000</td>\n",
       "      <td>5.000000</td>\n",
       "      <td>2.328000e+03</td>\n",
       "      <td>26.000000</td>\n",
       "      <td>25.000000</td>\n",
       "      <td>9.806000e+03</td>\n",
       "      <td>2.701000e+03</td>\n",
       "      <td>26.000000</td>\n",
       "      <td>4.000000</td>\n",
       "      <td>0.000000</td>\n",
       "    </tr>\n",
       "    <tr>\n",
       "      <th>max</th>\n",
       "      <td>249.000000</td>\n",
       "      <td>43.000000</td>\n",
       "      <td>649263.000000</td>\n",
       "      <td>1194.000000</td>\n",
       "      <td>708.000000</td>\n",
       "      <td>17.000000</td>\n",
       "      <td>2.362906e+06</td>\n",
       "      <td>1198.000000</td>\n",
       "      <td>1284.000000</td>\n",
       "      <td>2.060012e+06</td>\n",
       "      <td>2.362906e+06</td>\n",
       "      <td>1198.000000</td>\n",
       "      <td>20.000000</td>\n",
       "      <td>1.000000</td>\n",
       "    </tr>\n",
       "  </tbody>\n",
       "</table>\n",
       "</div>"
      ],
      "text/plain": [
       "        URL_LENGTH  NUMBER_SPECIAL_CHARACTERS  CONTENT_LENGTH  \\\n",
       "count  1781.000000                1781.000000      969.000000   \n",
       "mean     56.961258                  11.111735    11726.927761   \n",
       "std      27.555586                   4.549896    36391.809051   \n",
       "min      16.000000                   5.000000        0.000000   \n",
       "25%      39.000000                   8.000000      324.000000   \n",
       "50%      49.000000                  10.000000     1853.000000   \n",
       "75%      68.000000                  13.000000    11323.000000   \n",
       "max     249.000000                  43.000000   649263.000000   \n",
       "\n",
       "       TCP_CONVERSATION_EXCHANGE  DIST_REMOTE_TCP_PORT   REMOTE_IPS  \\\n",
       "count                1781.000000           1781.000000  1781.000000   \n",
       "mean                   16.261089              5.472768     3.060640   \n",
       "std                    40.500975             21.807327     3.386975   \n",
       "min                     0.000000              0.000000     0.000000   \n",
       "25%                     0.000000              0.000000     0.000000   \n",
       "50%                     7.000000              0.000000     2.000000   \n",
       "75%                    22.000000              5.000000     5.000000   \n",
       "max                  1194.000000            708.000000    17.000000   \n",
       "\n",
       "          APP_BYTES  SOURCE_APP_PACKETS  REMOTE_APP_PACKETS  SOURCE_APP_BYTES  \\\n",
       "count  1.781000e+03         1781.000000         1781.000000      1.781000e+03   \n",
       "mean   2.982339e+03           18.540146           18.746210      1.589255e+04   \n",
       "std    5.605057e+04           41.627173           46.397969      6.986193e+04   \n",
       "min    0.000000e+00            0.000000            0.000000      0.000000e+00   \n",
       "25%    0.000000e+00            0.000000            0.000000      0.000000e+00   \n",
       "50%    6.720000e+02            8.000000            9.000000      5.790000e+02   \n",
       "75%    2.328000e+03           26.000000           25.000000      9.806000e+03   \n",
       "max    2.362906e+06         1198.000000         1284.000000      2.060012e+06   \n",
       "\n",
       "       REMOTE_APP_BYTES  APP_PACKETS  DNS_QUERY_TIMES         Type  \n",
       "count      1.781000e+03  1781.000000      1780.000000  1781.000000  \n",
       "mean       3.155599e+03    18.540146         2.263483     0.121280  \n",
       "std        5.605378e+04    41.627173         2.930853     0.326544  \n",
       "min        0.000000e+00     0.000000         0.000000     0.000000  \n",
       "25%        0.000000e+00     0.000000         0.000000     0.000000  \n",
       "50%        7.350000e+02     8.000000         0.000000     0.000000  \n",
       "75%        2.701000e+03    26.000000         4.000000     0.000000  \n",
       "max        2.362906e+06  1198.000000        20.000000     1.000000  "
      ]
     },
     "execution_count": 6,
     "metadata": {},
     "output_type": "execute_result"
    }
   ],
   "source": [
    "# Check the statistical distribution of the datatset\n",
    "url_df.describe()"
   ]
  },
  {
   "cell_type": "code",
   "execution_count": 7,
   "id": "e43f6b04",
   "metadata": {
    "slideshow": {
     "slide_type": "skip"
    }
   },
   "outputs": [
    {
     "data": {
      "text/plain": [
       "URL                            0\n",
       "URL_LENGTH                     0\n",
       "NUMBER_SPECIAL_CHARACTERS      0\n",
       "CHARSET                        0\n",
       "SERVER                         1\n",
       "CONTENT_LENGTH               812\n",
       "WHOIS_COUNTRY                  0\n",
       "WHOIS_STATEPRO                 0\n",
       "WHOIS_REGDATE                  0\n",
       "WHOIS_UPDATED_DATE             0\n",
       "TCP_CONVERSATION_EXCHANGE      0\n",
       "DIST_REMOTE_TCP_PORT           0\n",
       "REMOTE_IPS                     0\n",
       "APP_BYTES                      0\n",
       "SOURCE_APP_PACKETS             0\n",
       "REMOTE_APP_PACKETS             0\n",
       "SOURCE_APP_BYTES               0\n",
       "REMOTE_APP_BYTES               0\n",
       "APP_PACKETS                    0\n",
       "DNS_QUERY_TIMES                1\n",
       "Type                           0\n",
       "dtype: int64"
      ]
     },
     "execution_count": 7,
     "metadata": {},
     "output_type": "execute_result"
    }
   ],
   "source": [
    "# Check for NULL values \n",
    "url_df.isnull().sum()"
   ]
  },
  {
   "cell_type": "markdown",
   "id": "4b617c62",
   "metadata": {
    "slideshow": {
     "slide_type": "slide"
    }
   },
   "source": [
    "It appears majority of the columns do not have missing or NULL values, however, `CONTENT_LENGTH` have `812` NULL values, while the `SERVER` and `DNS_QUERY_TIMES` have `1` NULL value each. "
   ]
  },
  {
   "cell_type": "code",
   "execution_count": 8,
   "id": "210c1ea5",
   "metadata": {
    "slideshow": {
     "slide_type": "skip"
    }
   },
   "outputs": [
    {
     "name": "stdout",
     "output_type": "stream",
     "text": [
      "0 URL\n",
      "1 URL_LENGTH\n",
      "2 NUMBER_SPECIAL_CHARACTERS\n",
      "3 CHARSET\n",
      "4 SERVER\n",
      "5 CONTENT_LENGTH\n",
      "6 WHOIS_COUNTRY\n",
      "7 WHOIS_STATEPRO\n",
      "8 WHOIS_REGDATE\n",
      "9 WHOIS_UPDATED_DATE\n",
      "10 TCP_CONVERSATION_EXCHANGE\n",
      "11 DIST_REMOTE_TCP_PORT\n",
      "12 REMOTE_IPS\n",
      "13 APP_BYTES\n",
      "14 SOURCE_APP_PACKETS\n",
      "15 REMOTE_APP_PACKETS\n",
      "16 SOURCE_APP_BYTES\n",
      "17 REMOTE_APP_BYTES\n",
      "18 APP_PACKETS\n",
      "19 DNS_QUERY_TIMES\n",
      "20 Type\n"
     ]
    }
   ],
   "source": [
    "# Take a look at the columns present in the dataset\n",
    "for i, v, in enumerate(url_df):\n",
    "    print(i,v)"
   ]
  },
  {
   "cell_type": "markdown",
   "id": "7a60aec9",
   "metadata": {
    "slideshow": {
     "slide_type": "slide"
    }
   },
   "source": [
    "The columns are all in capital letters except `Type`, for a better analysis and modeling, all the columns will be converted to lower case using the `.lower()` function."
   ]
  },
  {
   "cell_type": "markdown",
   "id": "06290626",
   "metadata": {
    "slideshow": {
     "slide_type": "slide"
    }
   },
   "source": [
    "<a id='data_cleaning'></a>\n",
    "### Data Cleaning\n",
    "> In the section, an in-depth data cleaning will be perfomed to ensure that the data is fit for model bulding and training. The cleaning process will involve; dropping columns that are not needed, fill mising values, ensure columsn are in the appropriate datatype, convert all the column labels into lower case among other.\n",
    "\n",
    "> Before the data cleaning begins, a copy of the original dataset will be made which would be worked on henceforth."
   ]
  },
  {
   "cell_type": "code",
   "execution_count": 9,
   "id": "53e97ec8",
   "metadata": {
    "code_folding": [],
    "slideshow": {
     "slide_type": "skip"
    }
   },
   "outputs": [],
   "source": [
    "# Make a copy of the original data\n",
    "url_df_clean = url_df.copy()"
   ]
  },
  {
   "cell_type": "code",
   "execution_count": 10,
   "id": "fd94245d",
   "metadata": {
    "slideshow": {
     "slide_type": "skip"
    }
   },
   "outputs": [],
   "source": [
    "# convert all the column lables into lower case\n",
    "url_df_clean.columns = url_df_clean.columns.str.lower()"
   ]
  },
  {
   "cell_type": "markdown",
   "id": "e8ab55b0",
   "metadata": {
    "slideshow": {
     "slide_type": "skip"
    }
   },
   "source": [
    "Since this research focus majorly on prediction of malicious websites using mahine learning techniques and not analytics per say, hence, only columns that are relevant would be used. \n"
   ]
  },
  {
   "cell_type": "code",
   "execution_count": 11,
   "id": "a35a9603",
   "metadata": {
    "slideshow": {
     "slide_type": "skip"
    }
   },
   "outputs": [],
   "source": [
    "# Select only numerical datatye columns\n",
    "url_df_clean = url_df_clean.select_dtypes([\"number\"])"
   ]
  },
  {
   "cell_type": "code",
   "execution_count": 12,
   "id": "02e6b168",
   "metadata": {
    "slideshow": {
     "slide_type": "skip"
    }
   },
   "outputs": [
    {
     "data": {
      "text/plain": [
       "(1781, 14)"
      ]
     },
     "execution_count": 12,
     "metadata": {},
     "output_type": "execute_result"
    }
   ],
   "source": [
    "# Check how many columns left\n",
    "url_df_clean.shape"
   ]
  },
  {
   "cell_type": "code",
   "execution_count": 13,
   "id": "05199172",
   "metadata": {
    "slideshow": {
     "slide_type": "skip"
    }
   },
   "outputs": [
    {
     "name": "stdout",
     "output_type": "stream",
     "text": [
      "0 url_length\n",
      "1 number_special_characters\n",
      "2 content_length\n",
      "3 tcp_conversation_exchange\n",
      "4 dist_remote_tcp_port\n",
      "5 remote_ips\n",
      "6 app_bytes\n",
      "7 source_app_packets\n",
      "8 remote_app_packets\n",
      "9 source_app_bytes\n",
      "10 remote_app_bytes\n",
      "11 app_packets\n",
      "12 dns_query_times\n",
      "13 type\n"
     ]
    }
   ],
   "source": [
    "# Confirm all column labels has been converted into lower case\n",
    "for i, v, in enumerate(url_df_clean):\n",
    "    print(i,v)"
   ]
  },
  {
   "cell_type": "code",
   "execution_count": 14,
   "id": "1ba033ae",
   "metadata": {
    "slideshow": {
     "slide_type": "skip"
    }
   },
   "outputs": [
    {
     "data": {
      "text/html": [
       "<div>\n",
       "<style scoped>\n",
       "    .dataframe tbody tr th:only-of-type {\n",
       "        vertical-align: middle;\n",
       "    }\n",
       "\n",
       "    .dataframe tbody tr th {\n",
       "        vertical-align: top;\n",
       "    }\n",
       "\n",
       "    .dataframe thead th {\n",
       "        text-align: right;\n",
       "    }\n",
       "</style>\n",
       "<table border=\"1\" class=\"dataframe\">\n",
       "  <thead>\n",
       "    <tr style=\"text-align: right;\">\n",
       "      <th></th>\n",
       "      <th>url_length</th>\n",
       "      <th>number_special_characters</th>\n",
       "      <th>content_length</th>\n",
       "      <th>tcp_conversation_exchange</th>\n",
       "      <th>dist_remote_tcp_port</th>\n",
       "      <th>remote_ips</th>\n",
       "      <th>app_bytes</th>\n",
       "      <th>source_app_packets</th>\n",
       "      <th>remote_app_packets</th>\n",
       "      <th>source_app_bytes</th>\n",
       "      <th>remote_app_bytes</th>\n",
       "      <th>app_packets</th>\n",
       "      <th>dns_query_times</th>\n",
       "      <th>type</th>\n",
       "    </tr>\n",
       "  </thead>\n",
       "  <tbody>\n",
       "    <tr>\n",
       "      <th>1766</th>\n",
       "      <td>154</td>\n",
       "      <td>21</td>\n",
       "      <td>11104.0</td>\n",
       "      <td>33</td>\n",
       "      <td>10</td>\n",
       "      <td>8</td>\n",
       "      <td>3764</td>\n",
       "      <td>41</td>\n",
       "      <td>23</td>\n",
       "      <td>7356</td>\n",
       "      <td>4412</td>\n",
       "      <td>41</td>\n",
       "      <td>8.0</td>\n",
       "      <td>0</td>\n",
       "    </tr>\n",
       "    <tr>\n",
       "      <th>1767</th>\n",
       "      <td>156</td>\n",
       "      <td>31</td>\n",
       "      <td>NaN</td>\n",
       "      <td>1</td>\n",
       "      <td>1</td>\n",
       "      <td>1</td>\n",
       "      <td>90</td>\n",
       "      <td>1</td>\n",
       "      <td>5</td>\n",
       "      <td>416</td>\n",
       "      <td>90</td>\n",
       "      <td>1</td>\n",
       "      <td>0.0</td>\n",
       "      <td>1</td>\n",
       "    </tr>\n",
       "    <tr>\n",
       "      <th>1768</th>\n",
       "      <td>160</td>\n",
       "      <td>29</td>\n",
       "      <td>36829.0</td>\n",
       "      <td>19</td>\n",
       "      <td>3</td>\n",
       "      <td>7</td>\n",
       "      <td>2402</td>\n",
       "      <td>25</td>\n",
       "      <td>22</td>\n",
       "      <td>4491</td>\n",
       "      <td>2900</td>\n",
       "      <td>25</td>\n",
       "      <td>6.0</td>\n",
       "      <td>0</td>\n",
       "    </tr>\n",
       "    <tr>\n",
       "      <th>1769</th>\n",
       "      <td>161</td>\n",
       "      <td>23</td>\n",
       "      <td>417.0</td>\n",
       "      <td>7</td>\n",
       "      <td>7</td>\n",
       "      <td>2</td>\n",
       "      <td>582</td>\n",
       "      <td>7</td>\n",
       "      <td>11</td>\n",
       "      <td>752</td>\n",
       "      <td>582</td>\n",
       "      <td>7</td>\n",
       "      <td>0.0</td>\n",
       "      <td>0</td>\n",
       "    </tr>\n",
       "    <tr>\n",
       "      <th>1770</th>\n",
       "      <td>169</td>\n",
       "      <td>25</td>\n",
       "      <td>NaN</td>\n",
       "      <td>6</td>\n",
       "      <td>3</td>\n",
       "      <td>4</td>\n",
       "      <td>552</td>\n",
       "      <td>6</td>\n",
       "      <td>9</td>\n",
       "      <td>564</td>\n",
       "      <td>552</td>\n",
       "      <td>6</td>\n",
       "      <td>0.0</td>\n",
       "      <td>0</td>\n",
       "    </tr>\n",
       "    <tr>\n",
       "      <th>1771</th>\n",
       "      <td>170</td>\n",
       "      <td>17</td>\n",
       "      <td>NaN</td>\n",
       "      <td>0</td>\n",
       "      <td>0</td>\n",
       "      <td>0</td>\n",
       "      <td>0</td>\n",
       "      <td>0</td>\n",
       "      <td>2</td>\n",
       "      <td>124</td>\n",
       "      <td>0</td>\n",
       "      <td>0</td>\n",
       "      <td>0.0</td>\n",
       "      <td>1</td>\n",
       "    </tr>\n",
       "    <tr>\n",
       "      <th>1772</th>\n",
       "      <td>173</td>\n",
       "      <td>34</td>\n",
       "      <td>NaN</td>\n",
       "      <td>1</td>\n",
       "      <td>1</td>\n",
       "      <td>1</td>\n",
       "      <td>90</td>\n",
       "      <td>1</td>\n",
       "      <td>5</td>\n",
       "      <td>416</td>\n",
       "      <td>90</td>\n",
       "      <td>1</td>\n",
       "      <td>0.0</td>\n",
       "      <td>1</td>\n",
       "    </tr>\n",
       "    <tr>\n",
       "      <th>1773</th>\n",
       "      <td>178</td>\n",
       "      <td>16</td>\n",
       "      <td>NaN</td>\n",
       "      <td>0</td>\n",
       "      <td>0</td>\n",
       "      <td>0</td>\n",
       "      <td>0</td>\n",
       "      <td>0</td>\n",
       "      <td>3</td>\n",
       "      <td>186</td>\n",
       "      <td>0</td>\n",
       "      <td>0</td>\n",
       "      <td>0.0</td>\n",
       "      <td>1</td>\n",
       "    </tr>\n",
       "    <tr>\n",
       "      <th>1774</th>\n",
       "      <td>183</td>\n",
       "      <td>29</td>\n",
       "      <td>4890.0</td>\n",
       "      <td>22</td>\n",
       "      <td>2</td>\n",
       "      <td>7</td>\n",
       "      <td>2062</td>\n",
       "      <td>30</td>\n",
       "      <td>26</td>\n",
       "      <td>8161</td>\n",
       "      <td>2742</td>\n",
       "      <td>30</td>\n",
       "      <td>8.0</td>\n",
       "      <td>0</td>\n",
       "    </tr>\n",
       "    <tr>\n",
       "      <th>1775</th>\n",
       "      <td>194</td>\n",
       "      <td>17</td>\n",
       "      <td>NaN</td>\n",
       "      <td>0</td>\n",
       "      <td>0</td>\n",
       "      <td>0</td>\n",
       "      <td>0</td>\n",
       "      <td>0</td>\n",
       "      <td>3</td>\n",
       "      <td>186</td>\n",
       "      <td>0</td>\n",
       "      <td>0</td>\n",
       "      <td>0.0</td>\n",
       "      <td>1</td>\n",
       "    </tr>\n",
       "    <tr>\n",
       "      <th>1776</th>\n",
       "      <td>194</td>\n",
       "      <td>16</td>\n",
       "      <td>NaN</td>\n",
       "      <td>0</td>\n",
       "      <td>0</td>\n",
       "      <td>0</td>\n",
       "      <td>0</td>\n",
       "      <td>0</td>\n",
       "      <td>3</td>\n",
       "      <td>186</td>\n",
       "      <td>0</td>\n",
       "      <td>0</td>\n",
       "      <td>0.0</td>\n",
       "      <td>1</td>\n",
       "    </tr>\n",
       "    <tr>\n",
       "      <th>1777</th>\n",
       "      <td>198</td>\n",
       "      <td>17</td>\n",
       "      <td>NaN</td>\n",
       "      <td>0</td>\n",
       "      <td>0</td>\n",
       "      <td>0</td>\n",
       "      <td>0</td>\n",
       "      <td>0</td>\n",
       "      <td>2</td>\n",
       "      <td>124</td>\n",
       "      <td>0</td>\n",
       "      <td>0</td>\n",
       "      <td>0.0</td>\n",
       "      <td>1</td>\n",
       "    </tr>\n",
       "    <tr>\n",
       "      <th>1778</th>\n",
       "      <td>201</td>\n",
       "      <td>34</td>\n",
       "      <td>8904.0</td>\n",
       "      <td>83</td>\n",
       "      <td>2</td>\n",
       "      <td>6</td>\n",
       "      <td>6631</td>\n",
       "      <td>87</td>\n",
       "      <td>89</td>\n",
       "      <td>132181</td>\n",
       "      <td>6945</td>\n",
       "      <td>87</td>\n",
       "      <td>4.0</td>\n",
       "      <td>0</td>\n",
       "    </tr>\n",
       "    <tr>\n",
       "      <th>1779</th>\n",
       "      <td>234</td>\n",
       "      <td>34</td>\n",
       "      <td>NaN</td>\n",
       "      <td>0</td>\n",
       "      <td>0</td>\n",
       "      <td>0</td>\n",
       "      <td>0</td>\n",
       "      <td>0</td>\n",
       "      <td>0</td>\n",
       "      <td>0</td>\n",
       "      <td>0</td>\n",
       "      <td>0</td>\n",
       "      <td>0.0</td>\n",
       "      <td>0</td>\n",
       "    </tr>\n",
       "    <tr>\n",
       "      <th>1780</th>\n",
       "      <td>249</td>\n",
       "      <td>40</td>\n",
       "      <td>24435.0</td>\n",
       "      <td>19</td>\n",
       "      <td>6</td>\n",
       "      <td>11</td>\n",
       "      <td>2314</td>\n",
       "      <td>25</td>\n",
       "      <td>28</td>\n",
       "      <td>3039</td>\n",
       "      <td>2776</td>\n",
       "      <td>25</td>\n",
       "      <td>6.0</td>\n",
       "      <td>0</td>\n",
       "    </tr>\n",
       "  </tbody>\n",
       "</table>\n",
       "</div>"
      ],
      "text/plain": [
       "      url_length  number_special_characters  content_length  \\\n",
       "1766         154                         21         11104.0   \n",
       "1767         156                         31             NaN   \n",
       "1768         160                         29         36829.0   \n",
       "1769         161                         23           417.0   \n",
       "1770         169                         25             NaN   \n",
       "1771         170                         17             NaN   \n",
       "1772         173                         34             NaN   \n",
       "1773         178                         16             NaN   \n",
       "1774         183                         29          4890.0   \n",
       "1775         194                         17             NaN   \n",
       "1776         194                         16             NaN   \n",
       "1777         198                         17             NaN   \n",
       "1778         201                         34          8904.0   \n",
       "1779         234                         34             NaN   \n",
       "1780         249                         40         24435.0   \n",
       "\n",
       "      tcp_conversation_exchange  dist_remote_tcp_port  remote_ips  app_bytes  \\\n",
       "1766                         33                    10           8       3764   \n",
       "1767                          1                     1           1         90   \n",
       "1768                         19                     3           7       2402   \n",
       "1769                          7                     7           2        582   \n",
       "1770                          6                     3           4        552   \n",
       "1771                          0                     0           0          0   \n",
       "1772                          1                     1           1         90   \n",
       "1773                          0                     0           0          0   \n",
       "1774                         22                     2           7       2062   \n",
       "1775                          0                     0           0          0   \n",
       "1776                          0                     0           0          0   \n",
       "1777                          0                     0           0          0   \n",
       "1778                         83                     2           6       6631   \n",
       "1779                          0                     0           0          0   \n",
       "1780                         19                     6          11       2314   \n",
       "\n",
       "      source_app_packets  remote_app_packets  source_app_bytes  \\\n",
       "1766                  41                  23              7356   \n",
       "1767                   1                   5               416   \n",
       "1768                  25                  22              4491   \n",
       "1769                   7                  11               752   \n",
       "1770                   6                   9               564   \n",
       "1771                   0                   2               124   \n",
       "1772                   1                   5               416   \n",
       "1773                   0                   3               186   \n",
       "1774                  30                  26              8161   \n",
       "1775                   0                   3               186   \n",
       "1776                   0                   3               186   \n",
       "1777                   0                   2               124   \n",
       "1778                  87                  89            132181   \n",
       "1779                   0                   0                 0   \n",
       "1780                  25                  28              3039   \n",
       "\n",
       "      remote_app_bytes  app_packets  dns_query_times  type  \n",
       "1766              4412           41              8.0     0  \n",
       "1767                90            1              0.0     1  \n",
       "1768              2900           25              6.0     0  \n",
       "1769               582            7              0.0     0  \n",
       "1770               552            6              0.0     0  \n",
       "1771                 0            0              0.0     1  \n",
       "1772                90            1              0.0     1  \n",
       "1773                 0            0              0.0     1  \n",
       "1774              2742           30              8.0     0  \n",
       "1775                 0            0              0.0     1  \n",
       "1776                 0            0              0.0     1  \n",
       "1777                 0            0              0.0     1  \n",
       "1778              6945           87              4.0     0  \n",
       "1779                 0            0              0.0     0  \n",
       "1780              2776           25              6.0     0  "
      ]
     },
     "execution_count": 14,
     "metadata": {},
     "output_type": "execute_result"
    }
   ],
   "source": [
    "# Preview the remaining columns \n",
    "url_df_clean.tail(15)"
   ]
  },
  {
   "cell_type": "code",
   "execution_count": 15,
   "id": "8454bd60",
   "metadata": {
    "slideshow": {
     "slide_type": "skip"
    }
   },
   "outputs": [
    {
     "name": "stdout",
     "output_type": "stream",
     "text": [
      "url_length                     0\n",
      "number_special_characters      0\n",
      "content_length               812\n",
      "tcp_conversation_exchange      0\n",
      "dist_remote_tcp_port           0\n",
      "remote_ips                     0\n",
      "app_bytes                      0\n",
      "source_app_packets             0\n",
      "remote_app_packets             0\n",
      "source_app_bytes               0\n",
      "remote_app_bytes               0\n",
      "app_packets                    0\n",
      "dns_query_times                1\n",
      "type                           0\n",
      "dtype: int64\n"
     ]
    }
   ],
   "source": [
    "# Checking for missing values again\n",
    "print(url_df_clean.isnull().sum())"
   ]
  },
  {
   "cell_type": "markdown",
   "id": "831406bf",
   "metadata": {
    "slideshow": {
     "slide_type": "skip"
    }
   },
   "source": [
    "It can be deduced from above that `content_length` column have `812` missing values. The missing values will be filled with the `mean` of the column using `.fillna()` function.<br>\n",
    "The same approach will be applied to the single missing value in `dns_query_times` column."
   ]
  },
  {
   "cell_type": "code",
   "execution_count": 16,
   "id": "08d80ec6",
   "metadata": {
    "slideshow": {
     "slide_type": "skip"
    }
   },
   "outputs": [],
   "source": [
    "# Fill the missing values in `content_length` column\n",
    "url_df_clean['content_length'] = url_df_clean['content_length'].fillna(url_df_clean['content_length'].mean())"
   ]
  },
  {
   "cell_type": "code",
   "execution_count": 17,
   "id": "f3924a33",
   "metadata": {
    "slideshow": {
     "slide_type": "skip"
    }
   },
   "outputs": [],
   "source": [
    "# Fill the missing values in `dns_query_times` column\n",
    "url_df_clean['dns_query_times'] = url_df_clean['dns_query_times'].fillna(url_df_clean['dns_query_times'].mean())"
   ]
  },
  {
   "cell_type": "code",
   "execution_count": 18,
   "id": "c435d268",
   "metadata": {
    "slideshow": {
     "slide_type": "skip"
    }
   },
   "outputs": [
    {
     "name": "stdout",
     "output_type": "stream",
     "text": [
      "url_length                   0\n",
      "number_special_characters    0\n",
      "content_length               0\n",
      "tcp_conversation_exchange    0\n",
      "dist_remote_tcp_port         0\n",
      "remote_ips                   0\n",
      "app_bytes                    0\n",
      "source_app_packets           0\n",
      "remote_app_packets           0\n",
      "source_app_bytes             0\n",
      "remote_app_bytes             0\n",
      "app_packets                  0\n",
      "dns_query_times              0\n",
      "type                         0\n",
      "dtype: int64\n"
     ]
    }
   ],
   "source": [
    "# Confirm that there is no missing or NULL values in the datatset\n",
    "print(url_df_clean.isnull().sum())"
   ]
  },
  {
   "cell_type": "code",
   "execution_count": 19,
   "id": "d8ec9b8f",
   "metadata": {
    "slideshow": {
     "slide_type": "skip"
    }
   },
   "outputs": [
    {
     "data": {
      "text/html": [
       "<div>\n",
       "<style scoped>\n",
       "    .dataframe tbody tr th:only-of-type {\n",
       "        vertical-align: middle;\n",
       "    }\n",
       "\n",
       "    .dataframe tbody tr th {\n",
       "        vertical-align: top;\n",
       "    }\n",
       "\n",
       "    .dataframe thead th {\n",
       "        text-align: right;\n",
       "    }\n",
       "</style>\n",
       "<table border=\"1\" class=\"dataframe\">\n",
       "  <thead>\n",
       "    <tr style=\"text-align: right;\">\n",
       "      <th></th>\n",
       "      <th>url_length</th>\n",
       "      <th>number_special_characters</th>\n",
       "      <th>content_length</th>\n",
       "      <th>tcp_conversation_exchange</th>\n",
       "      <th>dist_remote_tcp_port</th>\n",
       "      <th>remote_ips</th>\n",
       "      <th>app_bytes</th>\n",
       "      <th>source_app_packets</th>\n",
       "      <th>remote_app_packets</th>\n",
       "      <th>source_app_bytes</th>\n",
       "      <th>remote_app_bytes</th>\n",
       "      <th>app_packets</th>\n",
       "      <th>dns_query_times</th>\n",
       "      <th>type</th>\n",
       "    </tr>\n",
       "  </thead>\n",
       "  <tbody>\n",
       "    <tr>\n",
       "      <th>0</th>\n",
       "      <td>16</td>\n",
       "      <td>7</td>\n",
       "      <td>263.000000</td>\n",
       "      <td>7</td>\n",
       "      <td>0</td>\n",
       "      <td>2</td>\n",
       "      <td>700</td>\n",
       "      <td>9</td>\n",
       "      <td>10</td>\n",
       "      <td>1153</td>\n",
       "      <td>832</td>\n",
       "      <td>9</td>\n",
       "      <td>2.0</td>\n",
       "      <td>1</td>\n",
       "    </tr>\n",
       "    <tr>\n",
       "      <th>1</th>\n",
       "      <td>16</td>\n",
       "      <td>6</td>\n",
       "      <td>15087.000000</td>\n",
       "      <td>17</td>\n",
       "      <td>7</td>\n",
       "      <td>4</td>\n",
       "      <td>1230</td>\n",
       "      <td>17</td>\n",
       "      <td>19</td>\n",
       "      <td>1265</td>\n",
       "      <td>1230</td>\n",
       "      <td>17</td>\n",
       "      <td>0.0</td>\n",
       "      <td>0</td>\n",
       "    </tr>\n",
       "    <tr>\n",
       "      <th>2</th>\n",
       "      <td>16</td>\n",
       "      <td>6</td>\n",
       "      <td>324.000000</td>\n",
       "      <td>0</td>\n",
       "      <td>0</td>\n",
       "      <td>0</td>\n",
       "      <td>0</td>\n",
       "      <td>0</td>\n",
       "      <td>0</td>\n",
       "      <td>0</td>\n",
       "      <td>0</td>\n",
       "      <td>0</td>\n",
       "      <td>0.0</td>\n",
       "      <td>0</td>\n",
       "    </tr>\n",
       "    <tr>\n",
       "      <th>3</th>\n",
       "      <td>17</td>\n",
       "      <td>6</td>\n",
       "      <td>162.000000</td>\n",
       "      <td>31</td>\n",
       "      <td>22</td>\n",
       "      <td>3</td>\n",
       "      <td>3812</td>\n",
       "      <td>39</td>\n",
       "      <td>37</td>\n",
       "      <td>18784</td>\n",
       "      <td>4380</td>\n",
       "      <td>39</td>\n",
       "      <td>8.0</td>\n",
       "      <td>0</td>\n",
       "    </tr>\n",
       "    <tr>\n",
       "      <th>4</th>\n",
       "      <td>17</td>\n",
       "      <td>6</td>\n",
       "      <td>124140.000000</td>\n",
       "      <td>57</td>\n",
       "      <td>2</td>\n",
       "      <td>5</td>\n",
       "      <td>4278</td>\n",
       "      <td>61</td>\n",
       "      <td>62</td>\n",
       "      <td>129889</td>\n",
       "      <td>4586</td>\n",
       "      <td>61</td>\n",
       "      <td>4.0</td>\n",
       "      <td>0</td>\n",
       "    </tr>\n",
       "    <tr>\n",
       "      <th>5</th>\n",
       "      <td>18</td>\n",
       "      <td>7</td>\n",
       "      <td>11726.927761</td>\n",
       "      <td>11</td>\n",
       "      <td>6</td>\n",
       "      <td>9</td>\n",
       "      <td>894</td>\n",
       "      <td>11</td>\n",
       "      <td>13</td>\n",
       "      <td>838</td>\n",
       "      <td>894</td>\n",
       "      <td>11</td>\n",
       "      <td>0.0</td>\n",
       "      <td>0</td>\n",
       "    </tr>\n",
       "    <tr>\n",
       "      <th>6</th>\n",
       "      <td>18</td>\n",
       "      <td>6</td>\n",
       "      <td>345.000000</td>\n",
       "      <td>12</td>\n",
       "      <td>0</td>\n",
       "      <td>3</td>\n",
       "      <td>1189</td>\n",
       "      <td>14</td>\n",
       "      <td>13</td>\n",
       "      <td>8559</td>\n",
       "      <td>1327</td>\n",
       "      <td>14</td>\n",
       "      <td>2.0</td>\n",
       "      <td>0</td>\n",
       "    </tr>\n",
       "    <tr>\n",
       "      <th>7</th>\n",
       "      <td>19</td>\n",
       "      <td>6</td>\n",
       "      <td>324.000000</td>\n",
       "      <td>0</td>\n",
       "      <td>0</td>\n",
       "      <td>0</td>\n",
       "      <td>0</td>\n",
       "      <td>0</td>\n",
       "      <td>0</td>\n",
       "      <td>0</td>\n",
       "      <td>0</td>\n",
       "      <td>0</td>\n",
       "      <td>0.0</td>\n",
       "      <td>0</td>\n",
       "    </tr>\n",
       "    <tr>\n",
       "      <th>8</th>\n",
       "      <td>20</td>\n",
       "      <td>5</td>\n",
       "      <td>11726.927761</td>\n",
       "      <td>0</td>\n",
       "      <td>0</td>\n",
       "      <td>0</td>\n",
       "      <td>0</td>\n",
       "      <td>2</td>\n",
       "      <td>3</td>\n",
       "      <td>213</td>\n",
       "      <td>146</td>\n",
       "      <td>2</td>\n",
       "      <td>2.0</td>\n",
       "      <td>1</td>\n",
       "    </tr>\n",
       "    <tr>\n",
       "      <th>9</th>\n",
       "      <td>20</td>\n",
       "      <td>5</td>\n",
       "      <td>11726.927761</td>\n",
       "      <td>0</td>\n",
       "      <td>0</td>\n",
       "      <td>0</td>\n",
       "      <td>0</td>\n",
       "      <td>2</td>\n",
       "      <td>1</td>\n",
       "      <td>62</td>\n",
       "      <td>146</td>\n",
       "      <td>2</td>\n",
       "      <td>2.0</td>\n",
       "      <td>1</td>\n",
       "    </tr>\n",
       "    <tr>\n",
       "      <th>10</th>\n",
       "      <td>20</td>\n",
       "      <td>6</td>\n",
       "      <td>11726.927761</td>\n",
       "      <td>0</td>\n",
       "      <td>0</td>\n",
       "      <td>0</td>\n",
       "      <td>0</td>\n",
       "      <td>0</td>\n",
       "      <td>0</td>\n",
       "      <td>0</td>\n",
       "      <td>0</td>\n",
       "      <td>0</td>\n",
       "      <td>0.0</td>\n",
       "      <td>0</td>\n",
       "    </tr>\n",
       "    <tr>\n",
       "      <th>11</th>\n",
       "      <td>20</td>\n",
       "      <td>6</td>\n",
       "      <td>324.000000</td>\n",
       "      <td>0</td>\n",
       "      <td>0</td>\n",
       "      <td>0</td>\n",
       "      <td>0</td>\n",
       "      <td>0</td>\n",
       "      <td>0</td>\n",
       "      <td>0</td>\n",
       "      <td>0</td>\n",
       "      <td>0</td>\n",
       "      <td>0.0</td>\n",
       "      <td>0</td>\n",
       "    </tr>\n",
       "    <tr>\n",
       "      <th>12</th>\n",
       "      <td>20</td>\n",
       "      <td>7</td>\n",
       "      <td>13716.000000</td>\n",
       "      <td>16</td>\n",
       "      <td>6</td>\n",
       "      <td>8</td>\n",
       "      <td>1492</td>\n",
       "      <td>20</td>\n",
       "      <td>20</td>\n",
       "      <td>2334</td>\n",
       "      <td>1784</td>\n",
       "      <td>20</td>\n",
       "      <td>4.0</td>\n",
       "      <td>0</td>\n",
       "    </tr>\n",
       "    <tr>\n",
       "      <th>13</th>\n",
       "      <td>20</td>\n",
       "      <td>6</td>\n",
       "      <td>3692.000000</td>\n",
       "      <td>25</td>\n",
       "      <td>19</td>\n",
       "      <td>4</td>\n",
       "      <td>3946</td>\n",
       "      <td>35</td>\n",
       "      <td>29</td>\n",
       "      <td>16408</td>\n",
       "      <td>4746</td>\n",
       "      <td>35</td>\n",
       "      <td>10.0</td>\n",
       "      <td>0</td>\n",
       "    </tr>\n",
       "    <tr>\n",
       "      <th>14</th>\n",
       "      <td>20</td>\n",
       "      <td>7</td>\n",
       "      <td>13054.000000</td>\n",
       "      <td>0</td>\n",
       "      <td>0</td>\n",
       "      <td>0</td>\n",
       "      <td>0</td>\n",
       "      <td>0</td>\n",
       "      <td>0</td>\n",
       "      <td>0</td>\n",
       "      <td>0</td>\n",
       "      <td>0</td>\n",
       "      <td>0.0</td>\n",
       "      <td>0</td>\n",
       "    </tr>\n",
       "  </tbody>\n",
       "</table>\n",
       "</div>"
      ],
      "text/plain": [
       "    url_length  number_special_characters  content_length  \\\n",
       "0           16                          7      263.000000   \n",
       "1           16                          6    15087.000000   \n",
       "2           16                          6      324.000000   \n",
       "3           17                          6      162.000000   \n",
       "4           17                          6   124140.000000   \n",
       "5           18                          7    11726.927761   \n",
       "6           18                          6      345.000000   \n",
       "7           19                          6      324.000000   \n",
       "8           20                          5    11726.927761   \n",
       "9           20                          5    11726.927761   \n",
       "10          20                          6    11726.927761   \n",
       "11          20                          6      324.000000   \n",
       "12          20                          7    13716.000000   \n",
       "13          20                          6     3692.000000   \n",
       "14          20                          7    13054.000000   \n",
       "\n",
       "    tcp_conversation_exchange  dist_remote_tcp_port  remote_ips  app_bytes  \\\n",
       "0                           7                     0           2        700   \n",
       "1                          17                     7           4       1230   \n",
       "2                           0                     0           0          0   \n",
       "3                          31                    22           3       3812   \n",
       "4                          57                     2           5       4278   \n",
       "5                          11                     6           9        894   \n",
       "6                          12                     0           3       1189   \n",
       "7                           0                     0           0          0   \n",
       "8                           0                     0           0          0   \n",
       "9                           0                     0           0          0   \n",
       "10                          0                     0           0          0   \n",
       "11                          0                     0           0          0   \n",
       "12                         16                     6           8       1492   \n",
       "13                         25                    19           4       3946   \n",
       "14                          0                     0           0          0   \n",
       "\n",
       "    source_app_packets  remote_app_packets  source_app_bytes  \\\n",
       "0                    9                  10              1153   \n",
       "1                   17                  19              1265   \n",
       "2                    0                   0                 0   \n",
       "3                   39                  37             18784   \n",
       "4                   61                  62            129889   \n",
       "5                   11                  13               838   \n",
       "6                   14                  13              8559   \n",
       "7                    0                   0                 0   \n",
       "8                    2                   3               213   \n",
       "9                    2                   1                62   \n",
       "10                   0                   0                 0   \n",
       "11                   0                   0                 0   \n",
       "12                  20                  20              2334   \n",
       "13                  35                  29             16408   \n",
       "14                   0                   0                 0   \n",
       "\n",
       "    remote_app_bytes  app_packets  dns_query_times  type  \n",
       "0                832            9              2.0     1  \n",
       "1               1230           17              0.0     0  \n",
       "2                  0            0              0.0     0  \n",
       "3               4380           39              8.0     0  \n",
       "4               4586           61              4.0     0  \n",
       "5                894           11              0.0     0  \n",
       "6               1327           14              2.0     0  \n",
       "7                  0            0              0.0     0  \n",
       "8                146            2              2.0     1  \n",
       "9                146            2              2.0     1  \n",
       "10                 0            0              0.0     0  \n",
       "11                 0            0              0.0     0  \n",
       "12              1784           20              4.0     0  \n",
       "13              4746           35             10.0     0  \n",
       "14                 0            0              0.0     0  "
      ]
     },
     "execution_count": 19,
     "metadata": {},
     "output_type": "execute_result"
    }
   ],
   "source": [
    "# Have a look at the new DataFrame\n",
    "url_df_clean.head(15)"
   ]
  },
  {
   "cell_type": "markdown",
   "id": "b612ef24",
   "metadata": {
    "slideshow": {
     "slide_type": "skip"
    }
   },
   "source": [
    "<a id='eda'></a>\n",
    "### Exploratory Data Analysis\n",
    "> In this section, the data will be further explored to get more insights and perhaps fix issue that could affect the accuracy of the model."
   ]
  },
  {
   "cell_type": "markdown",
   "id": "95f552f0",
   "metadata": {
    "slideshow": {
     "slide_type": "skip"
    }
   },
   "source": [
    "### Checking Data Imbalance In The Target Variable"
   ]
  },
  {
   "cell_type": "code",
   "execution_count": 20,
   "id": "76d706e9",
   "metadata": {
    "slideshow": {
     "slide_type": "skip"
    }
   },
   "outputs": [
    {
     "data": {
      "text/plain": [
       "0    1565\n",
       "1     216\n",
       "Name: type, dtype: int64"
      ]
     },
     "execution_count": 20,
     "metadata": {},
     "output_type": "execute_result"
    }
   ],
   "source": [
    "# Check for class labels distribution\n",
    "url_df_clean.type.value_counts()"
   ]
  },
  {
   "cell_type": "code",
   "execution_count": 21,
   "id": "7a0bf345",
   "metadata": {
    "slideshow": {
     "slide_type": "skip"
    }
   },
   "outputs": [
    {
     "name": "stdout",
     "output_type": "stream",
     "text": [
      "YES : 216  No: 1565\n"
     ]
    }
   ],
   "source": [
    "#Segregating the classes \n",
    "yes = url_df_clean[url_df_clean.type == 1]\n",
    "no = url_df_clean[url_df_clean.type == 0]\n",
    "print('YES : %d  No: %d'%(len(yes), len(no)))"
   ]
  },
  {
   "cell_type": "code",
   "execution_count": 22,
   "id": "a03c336d",
   "metadata": {
    "slideshow": {
     "slide_type": "subslide"
    }
   },
   "outputs": [
    {
     "data": {
      "image/png": "[encoded data removed]",
      "text/plain": [
       "<Figure size 640x480 with 1 Axes>"
      ]
     },
     "metadata": {},
     "output_type": "display_data"
    }
   ],
   "source": [
    "# Plot a pie chart for the class distribution\n",
    "plt.pie(url_df_clean['type'].value_counts(),labels=['No','Yes'],autopct='%1.1f%%')\n",
    "plt.title('Percentage of Malicious Website Vs. Benign Websites', fontsize=12);\n"
   ]
  },
  {
   "cell_type": "code",
   "execution_count": 23,
   "id": "31e1d1e4",
   "metadata": {
    "slideshow": {
     "slide_type": "subslide"
    }
   },
   "outputs": [
    {
     "data": {
      "image/png": "[encoded data removed]",
      "text/plain": [
       "<Figure size 640x480 with 1 Axes>"
      ]
     },
     "metadata": {},
     "output_type": "display_data"
    },
    {
     "data": {
      "text/plain": [
       "<Figure size 1600x600 with 0 Axes>"
      ]
     },
     "metadata": {},
     "output_type": "display_data"
    }
   ],
   "source": [
    "sns.countplot(x='type', data=url_df_clean);\n",
    "plt.title('Benign vs Malicious Websites',fontsize=16);\n",
    "plt.ylabel('Number of Occurrences',fontsize=12);\n",
    "plt.xlabel('Class Label',fontsize=12);\n",
    "plt.figure(figsize=(16, 6));"
   ]
  },
  {
   "cell_type": "markdown",
   "id": "99418822",
   "metadata": {
    "slideshow": {
     "slide_type": "slide"
    }
   },
   "source": [
    "It is obvious from the above that the `class label` in the dataset (`type`) is biased, as only `12.1%` of the websites appears to be `Malicious Websites`, while `87.9%` is `Benign Websites`. <br>\n",
    "Proceeding with this statistics will eventually produce a bias model. In order to overcome this, there will be need to perform `Model Extrapolation` using `Synthetic Minority Oversampling Technique (SMOTE)`.\n",
    "\n",
    "Basically, `SMOTE` is a resampling technique which oversamples the minority class by `synthesizing` various parameters and creating new data points by using various `data augmentation` techniques. By this, enough numbers of the minority class data points will be produced to sufficiently carry out the learning processes for the machine learning model."
   ]
  },
  {
   "cell_type": "markdown",
   "id": "11e221a8",
   "metadata": {
    "slideshow": {
     "slide_type": "slide"
    }
   },
   "source": [
    "<a id='mlapplication'></a>\n",
    "### Machine Learning Application\n",
    "> This section detailed the application of machine learning techniques in the project, ranging from `feature engineering`, `model building`, `model training` `prediction` , `metrics scores`, `confusion matrix` among others."
   ]
  },
  {
   "cell_type": "markdown",
   "id": "a6aaf46c",
   "metadata": {
    "slideshow": {
     "slide_type": "slide"
    }
   },
   "source": [
    "#### Feature Engineering\n",
    "> This process involve seprating independent features from dependent or terget variable."
   ]
  },
  {
   "cell_type": "code",
   "execution_count": 24,
   "id": "7bf1be2c",
   "metadata": {
    "slideshow": {
     "slide_type": "skip"
    }
   },
   "outputs": [],
   "source": [
    "# Divide the dataset into independent features and target variable\n",
    "X = url_df_clean.drop('type', axis=1)\n",
    "y = url_df_clean['type']"
   ]
  },
  {
   "cell_type": "code",
   "execution_count": 25,
   "id": "a18e4a3e",
   "metadata": {
    "slideshow": {
     "slide_type": "skip"
    }
   },
   "outputs": [],
   "source": [
    "# Import the SMOTE function \n",
    "from imblearn.over_sampling import SMOTE\n",
    "# Importing the Under Sampling function\n",
    "from imblearn.under_sampling import RandomUnderSampler "
   ]
  },
  {
   "cell_type": "code",
   "execution_count": 26,
   "id": "9b67d1ae",
   "metadata": {
    "slideshow": {
     "slide_type": "skip"
    }
   },
   "outputs": [],
   "source": [
    "under_sample = RandomUnderSampler(sampling_strategy=0.5)"
   ]
  },
  {
   "cell_type": "code",
   "execution_count": 27,
   "id": "2044a298",
   "metadata": {
    "slideshow": {
     "slide_type": "skip"
    }
   },
   "outputs": [],
   "source": [
    "from imblearn.pipeline import Pipeline # Importing the pipeline "
   ]
  },
  {
   "cell_type": "code",
   "execution_count": 28,
   "id": "67c1cb5b",
   "metadata": {
    "slideshow": {
     "slide_type": "skip"
    }
   },
   "outputs": [],
   "source": [
    "\"\"\"\n",
    "Initializing the SMOTE function. Set SMOTE function to oversample the minority to the number equal to the majority class. \n",
    "Then, take 50% of the oversampled minority class (randomly sampled).\n",
    "\"\"\"\n",
    "over_sample = SMOTE(sampling_strategy=0.5)"
   ]
  },
  {
   "cell_type": "code",
   "execution_count": 29,
   "id": "785f4f14",
   "metadata": {
    "slideshow": {
     "slide_type": "skip"
    }
   },
   "outputs": [],
   "source": [
    "\"\"\"\n",
    "Steps for pipelining\n",
    "First \"do oversampling of the minority class\" and then do \"undersampling of the majority class\"\n",
    "\"\"\"\n",
    "pipeline_steps = [('o', over_sample),('u', under_sample)] \n"
   ]
  },
  {
   "cell_type": "code",
   "execution_count": 30,
   "id": "0f38468a",
   "metadata": {
    "slideshow": {
     "slide_type": "skip"
    }
   },
   "outputs": [],
   "source": [
    "# Create an instance of the pipline\n",
    "pipeline = Pipeline(steps=pipeline_steps)"
   ]
  },
  {
   "cell_type": "code",
   "execution_count": 31,
   "id": "eac4dd2c",
   "metadata": {
    "slideshow": {
     "slide_type": "skip"
    }
   },
   "outputs": [],
   "source": [
    "# Fitting the pipeline to the dataset\n",
    "X_smote, y_smote = pipeline.fit_resample(X,y)"
   ]
  },
  {
   "cell_type": "code",
   "execution_count": 32,
   "id": "1c929e22",
   "metadata": {
    "slideshow": {
     "slide_type": "skip"
    }
   },
   "outputs": [
    {
     "data": {
      "text/plain": [
       "0    1564\n",
       "1     782\n",
       "Name: type, dtype: int64"
      ]
     },
     "execution_count": 32,
     "metadata": {},
     "output_type": "execute_result"
    }
   ],
   "source": [
    "#  Check value counts of the target feature\n",
    "y_smote.value_counts()"
   ]
  },
  {
   "cell_type": "code",
   "execution_count": 33,
   "id": "f2a17ceb",
   "metadata": {
    "slideshow": {
     "slide_type": "subslide"
    }
   },
   "outputs": [
    {
     "data": {
      "image/png": "[encoded data removed]",
      "text/plain": [
       "<Figure size 640x480 with 1 Axes>"
      ]
     },
     "metadata": {},
     "output_type": "display_data"
    }
   ],
   "source": [
    "# Visualize the percentage ratio of the class labels\n",
    "y_smote.value_counts().plot(kind='pie', labels=['No','Yes'], autopct='%1.1f%%');\n",
    "plt.title('Percentage of Malicious Website Vs. Benign Websites Augmentation', fontsize=12);\n",
    "plt.ylabel('');"
   ]
  },
  {
   "cell_type": "markdown",
   "id": "7d4cb459",
   "metadata": {
    "slideshow": {
     "slide_type": "slide"
    }
   },
   "source": [
    "Now that the data augmentation has been implemented using `SMOTE`, it is time to start the modeling. "
   ]
  },
  {
   "cell_type": "code",
   "execution_count": 34,
   "id": "38701463",
   "metadata": {
    "slideshow": {
     "slide_type": "skip"
    }
   },
   "outputs": [],
   "source": [
    "import sklearn\n",
    "from sklearn.tree import DecisionTreeRegressor\n",
    "from sklearn.metrics import confusion_matrix,classification_report,accuracy_score,f1_score,fbeta_score,make_scorer,precision_score,recall_score \n",
    "from sklearn.model_selection import train_test_split, cross_val_score,cross_validate \n",
    "from sklearn import metrics\n",
    "X_train, X_test, y_train, y_test = train_test_split(X, y, test_size = 0.2)"
   ]
  },
  {
   "cell_type": "markdown",
   "id": "87f3eea1",
   "metadata": {
    "slideshow": {
     "slide_type": "skip"
    }
   },
   "source": [
    "### Decision Tree Algorithm"
   ]
  },
  {
   "cell_type": "code",
   "execution_count": 35,
   "id": "73688438",
   "metadata": {},
   "outputs": [],
   "source": [
    "from sklearn.tree import DecisionTreeClassifier"
   ]
  },
  {
   "cell_type": "code",
   "execution_count": 36,
   "id": "7ae31d31",
   "metadata": {
    "slideshow": {
     "slide_type": "slide"
    }
   },
   "outputs": [
    {
     "name": "stdout",
     "output_type": "stream",
     "text": [
      "Accuracy is 0.9355742296918768\n",
      "Recall is  0.7333333333333333\n",
      "Precision is 0.75\n",
      "F-1 Score is 0.7415730337078651\n"
     ]
    }
   ],
   "source": [
    "# Create Decision Tree classifer object\n",
    "decision_tree_model = DecisionTreeClassifier()\n",
    "# Train Decision Tree Classifer\n",
    "decision_tree_model.fit(X_train, y_train)\n",
    "# Predict the response on test data\n",
    "y_pred = decision_tree_model.predict(X_test)\n",
    "# Model Accuracy and other metrics, how often is the classifier correct?\n",
    "print(\"Accuracy is\", metrics.accuracy_score(y_test,y_pred))\n",
    "print(\"Recall is \", metrics.recall_score(y_test,y_pred))\n",
    "print('Precision is', metrics.precision_score(y_test,y_pred))\n",
    "print(\"F-1 Score is\", metrics.f1_score(y_test,y_pred))\n"
   ]
  },
  {
   "cell_type": "markdown",
   "id": "ada54e55",
   "metadata": {
    "slideshow": {
     "slide_type": "skip"
    }
   },
   "source": [
    "#### Confusion Matrix For Decision Tree Algorithm\n"
   ]
  },
  {
   "cell_type": "code",
   "execution_count": 37,
   "id": "f5558900",
   "metadata": {
    "slideshow": {
     "slide_type": "skip"
    }
   },
   "outputs": [
    {
     "name": "stdout",
     "output_type": "stream",
     "text": [
      "[[301  11]\n",
      " [ 12  33]]\n"
     ]
    }
   ],
   "source": [
    "confusion_matrix_dtc = metrics.confusion_matrix(y_test,y_pred)\n",
    "print(confusion_matrix_dtc)"
   ]
  },
  {
   "cell_type": "markdown",
   "id": "5d8d711f",
   "metadata": {
    "slideshow": {
     "slide_type": "skip"
    }
   },
   "source": [
    "Visualising the confusion matrix above would give a better presentation."
   ]
  },
  {
   "cell_type": "code",
   "execution_count": 38,
   "id": "ec0f8472",
   "metadata": {
    "slideshow": {
     "slide_type": "skip"
    }
   },
   "outputs": [
    {
     "data": {
      "text/plain": [
       "<Figure size 640x480 with 0 Axes>"
      ]
     },
     "metadata": {},
     "output_type": "display_data"
    }
   ],
   "source": [
    "plt.clf()"
   ]
  },
  {
   "cell_type": "code",
   "execution_count": 39,
   "id": "cd25ac2f",
   "metadata": {
    "slideshow": {
     "slide_type": "slide"
    }
   },
   "outputs": [
    {
     "data": {
      "image/png": "[encoded data removed]",
      "text/plain": [
       "<Figure size 640x480 with 1 Axes>"
      ]
     },
     "metadata": {},
     "output_type": "display_data"
    }
   ],
   "source": [
    "# Plotting the confusion matrix for Decision Tree Algorithm\n",
    "plt.clf()\n",
    "classNames = [\"Benign \", \"Malicious\"]\n",
    "plt.imshow(confusion_matrix_dtc, interpolation='nearest', cmap=plt.cm.Wistia)\n",
    "plt.title('Decision Tree Confusion Matrix - Test Data')\n",
    "plt.ylabel('True label')\n",
    "plt.xlabel('Predicted label')\n",
    "tick_marks = np.arange(len(classNames))\n",
    "plt.xticks(tick_marks, classNames, rotation=90)\n",
    "plt.yticks(tick_marks, classNames)\n",
    "v = [['TN','FP'], ['FN', 'TP']]\n",
    "for i in range(2):\n",
    "    for j in range(2):\n",
    "        plt.text(j,i, str(v[i][j])+\" = \"+str(confusion_matrix_dtc[i][j]))\n",
    "plt.show()"
   ]
  },
  {
   "cell_type": "markdown",
   "id": "eada0dd7",
   "metadata": {
    "slideshow": {
     "slide_type": "slide"
    }
   },
   "source": [
    "### XGBoost Algorithm"
   ]
  },
  {
   "cell_type": "code",
   "execution_count": 40,
   "id": "533ced80",
   "metadata": {
    "slideshow": {
     "slide_type": "skip"
    }
   },
   "outputs": [],
   "source": [
    "import xgboost as xgb\n",
    "from xgboost import XGBClassifier"
   ]
  },
  {
   "cell_type": "code",
   "execution_count": 41,
   "id": "a50ae3ff",
   "metadata": {
    "slideshow": {
     "slide_type": "slide"
    }
   },
   "outputs": [
    {
     "name": "stdout",
     "output_type": "stream",
     "text": [
      "Accuracy is 0.9635854341736695\n",
      "Recall is  0.7777777777777778\n",
      "Precision is 0.9210526315789473\n",
      "F-1 Score is 0.8433734939759038\n"
     ]
    }
   ],
   "source": [
    "# Create XGBoost classifer object\n",
    "xgb_model = XGBClassifier()\n",
    "# Train XGBoost Classifer\n",
    "xgb_model.fit(X_train, y_train)\n",
    "# Predict the response on test data\n",
    "y_pred = xgb_model.predict(X_test)\n",
    "# Model Accuracy and other metrics, how often is the classifier correct?\n",
    "print(\"Accuracy is\", metrics.accuracy_score(y_test,y_pred))\n",
    "print(\"Recall is \", metrics.recall_score(y_test,y_pred))\n",
    "print('Precision is', metrics.precision_score(y_test,y_pred))\n",
    "print(\"F-1 Score is\", metrics.f1_score(y_test,y_pred))"
   ]
  },
  {
   "cell_type": "markdown",
   "id": "a9d78c3b",
   "metadata": {
    "slideshow": {
     "slide_type": "slide"
    }
   },
   "source": [
    "#### Confusion Matrix For XGBoost Algorithm"
   ]
  },
  {
   "cell_type": "code",
   "execution_count": 42,
   "id": "6bd46f38",
   "metadata": {
    "slideshow": {
     "slide_type": "skip"
    }
   },
   "outputs": [
    {
     "name": "stdout",
     "output_type": "stream",
     "text": [
      "[[309   3]\n",
      " [ 10  35]]\n"
     ]
    }
   ],
   "source": [
    "confusion_matrix_xgb = metrics.confusion_matrix(y_test,y_pred)\n",
    "print(confusion_matrix_xgb)"
   ]
  },
  {
   "cell_type": "code",
   "execution_count": 43,
   "id": "e205ad63",
   "metadata": {
    "slideshow": {
     "slide_type": "subslide"
    }
   },
   "outputs": [
    {
     "data": {
      "image/png": "[encoded data removed]",
      "text/plain": [
       "<Figure size 640x480 with 1 Axes>"
      ]
     },
     "metadata": {},
     "output_type": "display_data"
    }
   ],
   "source": [
    "# Plotting the confusion matrix for Decision Tree Algorithm\n",
    "plt.clf()\n",
    "classNames = [\"Benign \", \"Malicious\"]\n",
    "plt.imshow(confusion_matrix_xgb, interpolation='nearest', cmap=plt.cm.Wistia)\n",
    "plt.title(' XGBoost Confusion Matrix - Test Data')\n",
    "plt.ylabel('True label')\n",
    "plt.xlabel('Predicted label')\n",
    "tick_marks = np.arange(len(classNames))\n",
    "plt.xticks(tick_marks, classNames, rotation=90)\n",
    "plt.yticks(tick_marks, classNames)\n",
    "v = [['TN','FP'], ['FN', 'TP']]\n",
    "for i in range(2):\n",
    "    for j in range(2):\n",
    "        plt.text(j,i, str(v[i][j])+\" = \"+str(confusion_matrix_xgb[i][j]))\n",
    "plt.show()"
   ]
  },
  {
   "cell_type": "code",
   "execution_count": 44,
   "id": "8d4f8136",
   "metadata": {
    "slideshow": {
     "slide_type": "slide"
    }
   },
   "outputs": [
    {
     "data": {
      "image/png": "[encoded data removed]",
      "text/plain": [
       "<Figure size 640x480 with 1 Axes>"
      ]
     },
     "metadata": {},
     "output_type": "display_data"
    }
   ],
   "source": [
    "x = np.array(['XGBoost', 'Decision Tree'])\n",
    "y = np.array([97, 93])\n",
    "plt.bar(x,y)\n",
    "plt.title(\"XGBoost Performance Vs. Decision Tree \")\n",
    "plt.ylabel(\"Accuracy in %\")\n",
    "plt.xlabel(\"Algorithm\")\n",
    "plt.show()"
   ]
  },
  {
   "cell_type": "markdown",
   "id": "029f1cd4",
   "metadata": {
    "slideshow": {
     "slide_type": "slide"
    }
   },
   "source": [
    "It can be oberved from the bar chart above that `XGBoost algorithm` have higher accuracy with `96%`, while `Decision Tree` have the `94%` accuracy."
   ]
  },
  {
   "cell_type": "markdown",
   "id": "375dbbd0",
   "metadata": {
    "slideshow": {
     "slide_type": "slide"
    }
   },
   "source": [
    "### Correlation Among The Features"
   ]
  },
  {
   "cell_type": "code",
   "execution_count": 45,
   "id": "147a9cad",
   "metadata": {
    "slideshow": {
     "slide_type": "skip"
    }
   },
   "outputs": [
    {
     "data": {
      "text/html": [
       "<div>\n",
       "<style scoped>\n",
       "    .dataframe tbody tr th:only-of-type {\n",
       "        vertical-align: middle;\n",
       "    }\n",
       "\n",
       "    .dataframe tbody tr th {\n",
       "        vertical-align: top;\n",
       "    }\n",
       "\n",
       "    .dataframe thead th {\n",
       "        text-align: right;\n",
       "    }\n",
       "</style>\n",
       "<table border=\"1\" class=\"dataframe\">\n",
       "  <thead>\n",
       "    <tr style=\"text-align: right;\">\n",
       "      <th></th>\n",
       "      <th>url_length</th>\n",
       "      <th>number_special_characters</th>\n",
       "      <th>content_length</th>\n",
       "      <th>tcp_conversation_exchange</th>\n",
       "      <th>dist_remote_tcp_port</th>\n",
       "      <th>remote_ips</th>\n",
       "      <th>app_bytes</th>\n",
       "      <th>source_app_packets</th>\n",
       "      <th>remote_app_packets</th>\n",
       "      <th>source_app_bytes</th>\n",
       "      <th>remote_app_bytes</th>\n",
       "      <th>app_packets</th>\n",
       "      <th>dns_query_times</th>\n",
       "      <th>type</th>\n",
       "    </tr>\n",
       "  </thead>\n",
       "  <tbody>\n",
       "    <tr>\n",
       "      <th>url_length</th>\n",
       "      <td>1.000000</td>\n",
       "      <td>0.917986</td>\n",
       "      <td>0.088854</td>\n",
       "      <td>-0.038407</td>\n",
       "      <td>-0.039839</td>\n",
       "      <td>-0.046367</td>\n",
       "      <td>-0.026446</td>\n",
       "      <td>-0.042264</td>\n",
       "      <td>-0.033779</td>\n",
       "      <td>-0.014857</td>\n",
       "      <td>-0.026686</td>\n",
       "      <td>-0.042264</td>\n",
       "      <td>-0.068533</td>\n",
       "      <td>0.162104</td>\n",
       "    </tr>\n",
       "    <tr>\n",
       "      <th>number_special_characters</th>\n",
       "      <td>0.917986</td>\n",
       "      <td>1.000000</td>\n",
       "      <td>0.143130</td>\n",
       "      <td>-0.037459</td>\n",
       "      <td>-0.042619</td>\n",
       "      <td>-0.047103</td>\n",
       "      <td>-0.023914</td>\n",
       "      <td>-0.040096</td>\n",
       "      <td>-0.030597</td>\n",
       "      <td>-0.014376</td>\n",
       "      <td>-0.024098</td>\n",
       "      <td>-0.040096</td>\n",
       "      <td>-0.050038</td>\n",
       "      <td>0.280897</td>\n",
       "    </tr>\n",
       "    <tr>\n",
       "      <th>content_length</th>\n",
       "      <td>0.088854</td>\n",
       "      <td>0.143130</td>\n",
       "      <td>1.000000</td>\n",
       "      <td>0.064416</td>\n",
       "      <td>-0.000089</td>\n",
       "      <td>0.003500</td>\n",
       "      <td>0.002642</td>\n",
       "      <td>0.060455</td>\n",
       "      <td>0.072362</td>\n",
       "      <td>0.083833</td>\n",
       "      <td>0.002514</td>\n",
       "      <td>0.060455</td>\n",
       "      <td>-0.032391</td>\n",
       "      <td>-0.064073</td>\n",
       "    </tr>\n",
       "    <tr>\n",
       "      <th>tcp_conversation_exchange</th>\n",
       "      <td>-0.038407</td>\n",
       "      <td>-0.037459</td>\n",
       "      <td>0.064416</td>\n",
       "      <td>1.000000</td>\n",
       "      <td>0.555188</td>\n",
       "      <td>0.331080</td>\n",
       "      <td>0.457320</td>\n",
       "      <td>0.997796</td>\n",
       "      <td>0.990848</td>\n",
       "      <td>0.865580</td>\n",
       "      <td>0.458702</td>\n",
       "      <td>0.997796</td>\n",
       "      <td>0.349823</td>\n",
       "      <td>-0.040202</td>\n",
       "    </tr>\n",
       "    <tr>\n",
       "      <th>dist_remote_tcp_port</th>\n",
       "      <td>-0.039839</td>\n",
       "      <td>-0.042619</td>\n",
       "      <td>-0.000089</td>\n",
       "      <td>0.555188</td>\n",
       "      <td>1.000000</td>\n",
       "      <td>0.210188</td>\n",
       "      <td>0.780238</td>\n",
       "      <td>0.558612</td>\n",
       "      <td>0.591188</td>\n",
       "      <td>0.313359</td>\n",
       "      <td>0.781212</td>\n",
       "      <td>0.558612</td>\n",
       "      <td>0.259941</td>\n",
       "      <td>-0.082925</td>\n",
       "    </tr>\n",
       "    <tr>\n",
       "      <th>remote_ips</th>\n",
       "      <td>-0.046367</td>\n",
       "      <td>-0.047103</td>\n",
       "      <td>0.003500</td>\n",
       "      <td>0.331080</td>\n",
       "      <td>0.210188</td>\n",
       "      <td>1.000000</td>\n",
       "      <td>0.023126</td>\n",
       "      <td>0.361104</td>\n",
       "      <td>0.304683</td>\n",
       "      <td>0.171651</td>\n",
       "      <td>0.025324</td>\n",
       "      <td>0.361104</td>\n",
       "      <td>0.548174</td>\n",
       "      <td>-0.078783</td>\n",
       "    </tr>\n",
       "    <tr>\n",
       "      <th>app_bytes</th>\n",
       "      <td>-0.026446</td>\n",
       "      <td>-0.023914</td>\n",
       "      <td>0.002642</td>\n",
       "      <td>0.457320</td>\n",
       "      <td>0.780238</td>\n",
       "      <td>0.023126</td>\n",
       "      <td>1.000000</td>\n",
       "      <td>0.445822</td>\n",
       "      <td>0.468999</td>\n",
       "      <td>0.074464</td>\n",
       "      <td>0.999992</td>\n",
       "      <td>0.445822</td>\n",
       "      <td>0.012221</td>\n",
       "      <td>-0.011262</td>\n",
       "    </tr>\n",
       "    <tr>\n",
       "      <th>source_app_packets</th>\n",
       "      <td>-0.042264</td>\n",
       "      <td>-0.040096</td>\n",
       "      <td>0.060455</td>\n",
       "      <td>0.997796</td>\n",
       "      <td>0.558612</td>\n",
       "      <td>0.361104</td>\n",
       "      <td>0.445822</td>\n",
       "      <td>1.000000</td>\n",
       "      <td>0.989285</td>\n",
       "      <td>0.857495</td>\n",
       "      <td>0.447448</td>\n",
       "      <td>1.000000</td>\n",
       "      <td>0.410829</td>\n",
       "      <td>-0.034414</td>\n",
       "    </tr>\n",
       "    <tr>\n",
       "      <th>remote_app_packets</th>\n",
       "      <td>-0.033779</td>\n",
       "      <td>-0.030597</td>\n",
       "      <td>0.072362</td>\n",
       "      <td>0.990848</td>\n",
       "      <td>0.591188</td>\n",
       "      <td>0.304683</td>\n",
       "      <td>0.468999</td>\n",
       "      <td>0.989285</td>\n",
       "      <td>1.000000</td>\n",
       "      <td>0.880555</td>\n",
       "      <td>0.470401</td>\n",
       "      <td>0.989285</td>\n",
       "      <td>0.355708</td>\n",
       "      <td>-0.032897</td>\n",
       "    </tr>\n",
       "    <tr>\n",
       "      <th>source_app_bytes</th>\n",
       "      <td>-0.014857</td>\n",
       "      <td>-0.014376</td>\n",
       "      <td>0.083833</td>\n",
       "      <td>0.865580</td>\n",
       "      <td>0.313359</td>\n",
       "      <td>0.171651</td>\n",
       "      <td>0.074464</td>\n",
       "      <td>0.857495</td>\n",
       "      <td>0.880555</td>\n",
       "      <td>1.000000</td>\n",
       "      <td>0.075328</td>\n",
       "      <td>0.857495</td>\n",
       "      <td>0.215282</td>\n",
       "      <td>-0.043852</td>\n",
       "    </tr>\n",
       "    <tr>\n",
       "      <th>remote_app_bytes</th>\n",
       "      <td>-0.026686</td>\n",
       "      <td>-0.024098</td>\n",
       "      <td>0.002514</td>\n",
       "      <td>0.458702</td>\n",
       "      <td>0.781212</td>\n",
       "      <td>0.025324</td>\n",
       "      <td>0.999992</td>\n",
       "      <td>0.447448</td>\n",
       "      <td>0.470401</td>\n",
       "      <td>0.075328</td>\n",
       "      <td>1.000000</td>\n",
       "      <td>0.447448</td>\n",
       "      <td>0.016215</td>\n",
       "      <td>-0.011004</td>\n",
       "    </tr>\n",
       "    <tr>\n",
       "      <th>app_packets</th>\n",
       "      <td>-0.042264</td>\n",
       "      <td>-0.040096</td>\n",
       "      <td>0.060455</td>\n",
       "      <td>0.997796</td>\n",
       "      <td>0.558612</td>\n",
       "      <td>0.361104</td>\n",
       "      <td>0.445822</td>\n",
       "      <td>1.000000</td>\n",
       "      <td>0.989285</td>\n",
       "      <td>0.857495</td>\n",
       "      <td>0.447448</td>\n",
       "      <td>1.000000</td>\n",
       "      <td>0.410829</td>\n",
       "      <td>-0.034414</td>\n",
       "    </tr>\n",
       "    <tr>\n",
       "      <th>dns_query_times</th>\n",
       "      <td>-0.068533</td>\n",
       "      <td>-0.050038</td>\n",
       "      <td>-0.032391</td>\n",
       "      <td>0.349823</td>\n",
       "      <td>0.259941</td>\n",
       "      <td>0.548174</td>\n",
       "      <td>0.012221</td>\n",
       "      <td>0.410829</td>\n",
       "      <td>0.355708</td>\n",
       "      <td>0.215282</td>\n",
       "      <td>0.016215</td>\n",
       "      <td>0.410829</td>\n",
       "      <td>1.000000</td>\n",
       "      <td>0.068751</td>\n",
       "    </tr>\n",
       "    <tr>\n",
       "      <th>type</th>\n",
       "      <td>0.162104</td>\n",
       "      <td>0.280897</td>\n",
       "      <td>-0.064073</td>\n",
       "      <td>-0.040202</td>\n",
       "      <td>-0.082925</td>\n",
       "      <td>-0.078783</td>\n",
       "      <td>-0.011262</td>\n",
       "      <td>-0.034414</td>\n",
       "      <td>-0.032897</td>\n",
       "      <td>-0.043852</td>\n",
       "      <td>-0.011004</td>\n",
       "      <td>-0.034414</td>\n",
       "      <td>0.068751</td>\n",
       "      <td>1.000000</td>\n",
       "    </tr>\n",
       "  </tbody>\n",
       "</table>\n",
       "</div>"
      ],
      "text/plain": [
       "                           url_length  number_special_characters  \\\n",
       "url_length                   1.000000                   0.917986   \n",
       "number_special_characters    0.917986                   1.000000   \n",
       "content_length               0.088854                   0.143130   \n",
       "tcp_conversation_exchange   -0.038407                  -0.037459   \n",
       "dist_remote_tcp_port        -0.039839                  -0.042619   \n",
       "remote_ips                  -0.046367                  -0.047103   \n",
       "app_bytes                   -0.026446                  -0.023914   \n",
       "source_app_packets          -0.042264                  -0.040096   \n",
       "remote_app_packets          -0.033779                  -0.030597   \n",
       "source_app_bytes            -0.014857                  -0.014376   \n",
       "remote_app_bytes            -0.026686                  -0.024098   \n",
       "app_packets                 -0.042264                  -0.040096   \n",
       "dns_query_times             -0.068533                  -0.050038   \n",
       "type                         0.162104                   0.280897   \n",
       "\n",
       "                           content_length  tcp_conversation_exchange  \\\n",
       "url_length                       0.088854                  -0.038407   \n",
       "number_special_characters        0.143130                  -0.037459   \n",
       "content_length                   1.000000                   0.064416   \n",
       "tcp_conversation_exchange        0.064416                   1.000000   \n",
       "dist_remote_tcp_port            -0.000089                   0.555188   \n",
       "remote_ips                       0.003500                   0.331080   \n",
       "app_bytes                        0.002642                   0.457320   \n",
       "source_app_packets               0.060455                   0.997796   \n",
       "remote_app_packets               0.072362                   0.990848   \n",
       "source_app_bytes                 0.083833                   0.865580   \n",
       "remote_app_bytes                 0.002514                   0.458702   \n",
       "app_packets                      0.060455                   0.997796   \n",
       "dns_query_times                 -0.032391                   0.349823   \n",
       "type                            -0.064073                  -0.040202   \n",
       "\n",
       "                           dist_remote_tcp_port  remote_ips  app_bytes  \\\n",
       "url_length                            -0.039839   -0.046367  -0.026446   \n",
       "number_special_characters             -0.042619   -0.047103  -0.023914   \n",
       "content_length                        -0.000089    0.003500   0.002642   \n",
       "tcp_conversation_exchange              0.555188    0.331080   0.457320   \n",
       "dist_remote_tcp_port                   1.000000    0.210188   0.780238   \n",
       "remote_ips                             0.210188    1.000000   0.023126   \n",
       "app_bytes                              0.780238    0.023126   1.000000   \n",
       "source_app_packets                     0.558612    0.361104   0.445822   \n",
       "remote_app_packets                     0.591188    0.304683   0.468999   \n",
       "source_app_bytes                       0.313359    0.171651   0.074464   \n",
       "remote_app_bytes                       0.781212    0.025324   0.999992   \n",
       "app_packets                            0.558612    0.361104   0.445822   \n",
       "dns_query_times                        0.259941    0.548174   0.012221   \n",
       "type                                  -0.082925   -0.078783  -0.011262   \n",
       "\n",
       "                           source_app_packets  remote_app_packets  \\\n",
       "url_length                          -0.042264           -0.033779   \n",
       "number_special_characters           -0.040096           -0.030597   \n",
       "content_length                       0.060455            0.072362   \n",
       "tcp_conversation_exchange            0.997796            0.990848   \n",
       "dist_remote_tcp_port                 0.558612            0.591188   \n",
       "remote_ips                           0.361104            0.304683   \n",
       "app_bytes                            0.445822            0.468999   \n",
       "source_app_packets                   1.000000            0.989285   \n",
       "remote_app_packets                   0.989285            1.000000   \n",
       "source_app_bytes                     0.857495            0.880555   \n",
       "remote_app_bytes                     0.447448            0.470401   \n",
       "app_packets                          1.000000            0.989285   \n",
       "dns_query_times                      0.410829            0.355708   \n",
       "type                                -0.034414           -0.032897   \n",
       "\n",
       "                           source_app_bytes  remote_app_bytes  app_packets  \\\n",
       "url_length                        -0.014857         -0.026686    -0.042264   \n",
       "number_special_characters         -0.014376         -0.024098    -0.040096   \n",
       "content_length                     0.083833          0.002514     0.060455   \n",
       "tcp_conversation_exchange          0.865580          0.458702     0.997796   \n",
       "dist_remote_tcp_port               0.313359          0.781212     0.558612   \n",
       "remote_ips                         0.171651          0.025324     0.361104   \n",
       "app_bytes                          0.074464          0.999992     0.445822   \n",
       "source_app_packets                 0.857495          0.447448     1.000000   \n",
       "remote_app_packets                 0.880555          0.470401     0.989285   \n",
       "source_app_bytes                   1.000000          0.075328     0.857495   \n",
       "remote_app_bytes                   0.075328          1.000000     0.447448   \n",
       "app_packets                        0.857495          0.447448     1.000000   \n",
       "dns_query_times                    0.215282          0.016215     0.410829   \n",
       "type                              -0.043852         -0.011004    -0.034414   \n",
       "\n",
       "                           dns_query_times      type  \n",
       "url_length                       -0.068533  0.162104  \n",
       "number_special_characters        -0.050038  0.280897  \n",
       "content_length                   -0.032391 -0.064073  \n",
       "tcp_conversation_exchange         0.349823 -0.040202  \n",
       "dist_remote_tcp_port              0.259941 -0.082925  \n",
       "remote_ips                        0.548174 -0.078783  \n",
       "app_bytes                         0.012221 -0.011262  \n",
       "source_app_packets                0.410829 -0.034414  \n",
       "remote_app_packets                0.355708 -0.032897  \n",
       "source_app_bytes                  0.215282 -0.043852  \n",
       "remote_app_bytes                  0.016215 -0.011004  \n",
       "app_packets                       0.410829 -0.034414  \n",
       "dns_query_times                   1.000000  0.068751  \n",
       "type                              0.068751  1.000000  "
      ]
     },
     "execution_count": 45,
     "metadata": {},
     "output_type": "execute_result"
    }
   ],
   "source": [
    "# Check for correlation \n",
    "url_df_clean.corr()"
   ]
  },
  {
   "cell_type": "code",
   "execution_count": 46,
   "id": "5e1f03c3",
   "metadata": {
    "slideshow": {
     "slide_type": "subslide"
    }
   },
   "outputs": [
    {
     "data": {
      "image/png": "[encoded data removed]",
      "text/plain": [
       "<Figure size 640x480 with 2 Axes>"
      ]
     },
     "metadata": {},
     "output_type": "display_data"
    }
   ],
   "source": [
    "# Visualise the correlation \n",
    "sns.heatmap(url_df_clean.corr(), cmap='Greens');\n",
    "plt.xticks(rotation=90);"
   ]
  },
  {
   "cell_type": "markdown",
   "id": "50fb03bd",
   "metadata": {
    "slideshow": {
     "slide_type": "slide"
    }
   },
   "source": [
    "It can be deduced from the heatmap above that there is a positive strong correlation between `number_special_characters` and `url_length` with correlation value of `0.917986`, also there is strong positve correlation between `tcp_conversation_exchange` and `remote_app_packets` with correlation value of `0.990848`. There is also a strong positive correlation between `app_bytes` and `remote_app_bytes` with correlation value of `0.999992`."
   ]
  },
  {
   "cell_type": "markdown",
   "id": "fd1e3ef2",
   "metadata": {
    "slideshow": {
     "slide_type": "slide"
    }
   },
   "source": [
    "<a id='conclusion'></a>\n",
    "### Conclusion \n",
    "> This research has leverage on the power of `Machine Learning` to classified website to either `Malicious` or `Benign `. Analysis revealed that the target label (`type`) has data imbalance as 12.1% of the dataset is `Malicious Websites`, while 87.9% is `Benign Websites`, this data imbalance was solved using `Synthetic Minority Oversampling Technique (SMOTE)` for data augmentations.<br>\n",
    "> Positive strong correlations was observed among some of the features such as; `number_special_characters` and `url_length`,  `tcp_conversation_exchange` and `remote_app_packets`,  `app_bytes` and `remote_app_bytes` among others.<br>\n",
    "> `Decision Tree` and `XGBoost` algorithms were used, and XGBoost performed better with accuracy of `96%`, while `Decision Tree` have an accuracy of `94%`.\n"
   ]
  },
  {
   "cell_type": "code",
   "execution_count": 47,
   "id": "fd299901",
   "metadata": {},
   "outputs": [],
   "source": [
    "# !jupyter nbconvert Predicting-Malicious-Websites-Using-ML-Techniques.ipynb --to slides --template output-toggle.tpl --post serve --no-input --no-prompt\n",
    "     "
   ]
  }
 ],
 "metadata": {
  "kernelspec": {
   "display_name": "Python 3 (ipykernel)",
   "language": "python",
   "name": "python3"
  },
  "language_info": {
   "codemirror_mode": {
    "name": "ipython",
    "version": 3
   },
   "file_extension": ".py",
   "mimetype": "text/x-python",
   "name": "python",
   "nbconvert_exporter": "python",
   "pygments_lexer": "ipython3",
   "version": "3.9.15"
  }
 },
 "nbformat": 4,
 "nbformat_minor": 5
}
